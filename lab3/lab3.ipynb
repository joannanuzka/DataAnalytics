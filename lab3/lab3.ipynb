{
 "cells": [
  {
   "cell_type": "code",
   "execution_count": 70,
   "metadata": {},
   "outputs": [],
   "source": [
    "from cmdstanpy import CmdStanModel\n",
    "from matplotlib import pyplot as plt\n",
    "import arviz as az"
   ]
  },
  {
   "attachments": {},
   "cell_type": "markdown",
   "metadata": {},
   "source": [
    "Ex. 1"
   ]
  },
  {
   "cell_type": "code",
   "execution_count": 71,
   "metadata": {},
   "outputs": [
    {
     "name": "stderr",
     "output_type": "stream",
     "text": [
      "INFO:cmdstanpy:found newer exe file, not recompiling\n"
     ]
    }
   ],
   "source": [
    "gen_quant = CmdStanModel(stan_file=\"model1.stan\")"
   ]
  },
  {
   "cell_type": "code",
   "execution_count": 72,
   "metadata": {},
   "outputs": [
    {
     "name": "stderr",
     "output_type": "stream",
     "text": [
      "INFO:cmdstanpy:CmdStan start processing\n",
      "chain 1 |\u001b[34m██████████\u001b[0m| 00:02 Sampling completed"
     ]
    },
    {
     "name": "stdout",
     "output_type": "stream",
     "text": [
      "                                                                                "
     ]
    },
    {
     "name": "stderr",
     "output_type": "stream",
     "text": [
      "\n",
      "INFO:cmdstanpy:CmdStan done processing.\n"
     ]
    },
    {
     "name": "stdout",
     "output_type": "stream",
     "text": [
      "\n",
      "       Mean    MCSE        StdDev       5%   50%    95%  N_Eff  N_Eff/s  R_hat\n",
      "name                                                                          \n",
      "lp__   0.00     NaN  0.000000e+00   0.0000   0.0   0.00    NaN      NaN    NaN\n",
      "N     50.00     NaN  1.700000e-13  50.0000  50.0  50.00    NaN      NaN    NaN\n",
      "y      7.90  0.2900  8.800000e+00   0.0000   5.0  26.00  920.0  71000.0    1.0\n",
      "p      0.16  0.0055  1.700000e-01   0.0023   0.1   0.54  930.0  72000.0    1.0\n"
     ]
    }
   ],
   "source": [
    "samples = gen_quant.sample(fixed_param=True, \n",
    "                            iter_sampling=1000, \n",
    "                            iter_warmup=0, \n",
    "                            chains = 1)\n",
    "print(samples.summary())"
   ]
  },
  {
   "cell_type": "code",
   "execution_count": 73,
   "metadata": {},
   "outputs": [
    {
     "data": {
      "image/png": "[encoded data removed]",
      "text/plain": [
       "<Figure size 432x288 with 1 Axes>"
      ]
     },
     "metadata": {
      "needs_background": "light"
     },
     "output_type": "display_data"
    },
    {
     "data": {
      "image/png": "[encoded data removed]",
      "text/plain": [
       "<Figure size 432x288 with 1 Axes>"
      ]
     },
     "metadata": {
      "needs_background": "light"
     },
     "output_type": "display_data"
    }
   ],
   "source": [
    "df1 = samples.draws_pd()\n",
    "df1.hist(column='y')\n",
    "df1.hist(column='p')\n",
    "plt.show()"
   ]
  },
  {
   "attachments": {},
   "cell_type": "markdown",
   "metadata": {},
   "source": [
    "I choose beta distribution parameters (0.6, 3) to make compromise between fitting to given mean probability which is 20%  and y which should be 7."
   ]
  },
  {
   "attachments": {},
   "cell_type": "markdown",
   "metadata": {},
   "source": [
    "Ex. 2"
   ]
  },
  {
   "cell_type": "code",
   "execution_count": 74,
   "metadata": {},
   "outputs": [
    {
     "name": "stderr",
     "output_type": "stream",
     "text": [
      "INFO:cmdstanpy:found newer exe file, not recompiling\n"
     ]
    }
   ],
   "source": [
    "gen_quant = CmdStanModel(stan_file=\"model2.stan\")"
   ]
  },
  {
   "cell_type": "code",
   "execution_count": 75,
   "metadata": {},
   "outputs": [
    {
     "name": "stderr",
     "output_type": "stream",
     "text": [
      "INFO:cmdstanpy:CmdStan start processing\n",
      "chain 1 |\u001b[34m██████████\u001b[0m| 00:00 Sampling completed"
     ]
    },
    {
     "name": "stdout",
     "output_type": "stream",
     "text": [
      "                                                                                "
     ]
    },
    {
     "name": "stderr",
     "output_type": "stream",
     "text": [
      "\n",
      "INFO:cmdstanpy:CmdStan done processing.\n"
     ]
    },
    {
     "name": "stdout",
     "output_type": "stream",
     "text": [
      "\n",
      "         Mean   MCSE        StdDev     5%    50%    95%  N_Eff  N_Eff/s  R_hat\n",
      "name                                                                          \n",
      "lp__     0.00    NaN  0.000000e+00   0.00   0.00   0.00    NaN      NaN    NaN\n",
      "p        0.82    NaN  1.700000e-15   0.82   0.82   0.82    NaN      NaN    NaN\n",
      "y_pred  41.00  0.085  2.600000e+00  36.00  41.00  45.00  960.0  87000.0    1.0\n"
     ]
    }
   ],
   "source": [
    "samples = gen_quant.sample(data = {'N':50, 'y':7},\n",
    "                           fixed_param=True, \n",
    "                            iter_sampling=1000, \n",
    "                            iter_warmup=0, \n",
    "                            chains = 1)\n",
    "print(samples.summary())"
   ]
  },
  {
   "cell_type": "code",
   "execution_count": 76,
   "metadata": {},
   "outputs": [
    {
     "data": {
      "image/png": "[encoded data removed]",
      "text/plain": [
       "<Figure size 432x288 with 1 Axes>"
      ]
     },
     "metadata": {
      "needs_background": "light"
     },
     "output_type": "display_data"
    },
    {
     "data": {
      "image/png": "[encoded data removed]",
      "text/plain": [
       "<Figure size 432x288 with 1 Axes>"
      ]
     },
     "metadata": {
      "needs_background": "light"
     },
     "output_type": "display_data"
    }
   ],
   "source": [
    "df1 = samples.draws_pd()\n",
    "df1.hist(column='p')\n",
    "df1.hist(column='y_pred')\n",
    "plt.show()"
   ]
  },
  {
   "cell_type": "code",
   "execution_count": 77,
   "metadata": {},
   "outputs": [
    {
     "name": "stdout",
     "output_type": "stream",
     "text": [
      "<xarray.Dataset>\n",
      "Dimensions:  (chain: 1, draw: 1000)\n",
      "Coordinates:\n",
      "  * chain    (chain) int64 0\n",
      "  * draw     (draw) int64 0 1 2 3 4 5 6 7 8 ... 992 993 994 995 996 997 998 999\n",
      "Data variables:\n",
      "    p        (chain, draw) float64 0.8194 0.8194 0.8194 ... 0.8194 0.8194 0.8194\n",
      "    y_pred   (chain, draw) float64 41.0 43.0 42.0 45.0 ... 42.0 41.0 41.0 38.0\n",
      "Attributes:\n",
      "    created_at:                 2023-03-28T16:51:07.904397\n",
      "    arviz_version:              0.12.0\n",
      "    inference_library:          cmdstanpy\n",
      "    inference_library_version:  1.0.1\n"
     ]
    }
   ],
   "source": [
    "arviz_samples = az.from_cmdstanpy(samples)\n",
    "print(arviz_samples.posterior)"
   ]
  },
  {
   "cell_type": "code",
   "execution_count": 78,
   "metadata": {},
   "outputs": [
    {
     "name": "stdout",
     "output_type": "stream",
     "text": [
      "<xarray.Dataset>\n",
      "Dimensions:  (hdi: 2)\n",
      "Coordinates:\n",
      "  * hdi      (hdi) <U6 'lower' 'higher'\n",
      "Data variables:\n",
      "    p        (hdi) float64 0.8194 0.8194\n",
      "    y_pred   (hdi) float64 36.0 45.0\n"
     ]
    }
   ],
   "source": [
    "print(az.hdi(arviz_samples))"
   ]
  },
  {
   "cell_type": "code",
   "execution_count": 79,
   "metadata": {},
   "outputs": [
    {
     "name": "stdout",
     "output_type": "stream",
     "text": [
      "<xarray.Dataset>\n",
      "Dimensions:  ()\n",
      "Data variables:\n",
      "    p        float64 0.8194\n",
      "    y_pred   float64 40.96\n"
     ]
    }
   ],
   "source": [
    "print(arviz_samples.mean()[\"posterior\"])"
   ]
  }
 ],
 "metadata": {
  "kernelspec": {
   "display_name": "Python 3",
   "language": "python",
   "name": "python3"
  },
  "language_info": {
   "codemirror_mode": {
    "name": "ipython",
    "version": 3
   },
   "file_extension": ".py",
   "mimetype": "text/x-python",
   "name": "python",
   "nbconvert_exporter": "python",
   "pygments_lexer": "ipython3",
   "version": "3.9.11"
  },
  "orig_nbformat": 4
 },
 "nbformat": 4,
 "nbformat_minor": 2
}
