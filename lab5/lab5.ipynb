{
 "cells": [
  {
   "cell_type": "code",
   "execution_count": 168,
   "metadata": {},
   "outputs": [],
   "source": [
    "from cmdstanpy import CmdStanModel\n",
    "\n",
    "\n",
    "import arviz as az\n",
    "import numpy as np\n",
    "import scipy.stats as stats\n",
    "\n",
    "import matplotlib.pyplot as plt\n",
    "import pandas as pd\n",
    "import seaborn as sns"
   ]
  },
  {
   "cell_type": "code",
   "execution_count": 169,
   "metadata": {},
   "outputs": [
    {
     "data": {
      "text/html": [
       "<div>\n",
       "<style scoped>\n",
       "    .dataframe tbody tr th:only-of-type {\n",
       "        vertical-align: middle;\n",
       "    }\n",
       "\n",
       "    .dataframe tbody tr th {\n",
       "        vertical-align: top;\n",
       "    }\n",
       "\n",
       "    .dataframe thead th {\n",
       "        text-align: right;\n",
       "    }\n",
       "</style>\n",
       "<table border=\"1\" class=\"dataframe\">\n",
       "  <thead>\n",
       "    <tr style=\"text-align: right;\">\n",
       "      <th></th>\n",
       "      <th>Year</th>\n",
       "      <th>Fatal accidents</th>\n",
       "      <th>Passenger deaths</th>\n",
       "      <th>Miles flown [100 mln miles]</th>\n",
       "    </tr>\n",
       "  </thead>\n",
       "  <tbody>\n",
       "    <tr>\n",
       "      <th>0</th>\n",
       "      <td>1976</td>\n",
       "      <td>24</td>\n",
       "      <td>734</td>\n",
       "      <td>3863.0</td>\n",
       "    </tr>\n",
       "    <tr>\n",
       "      <th>1</th>\n",
       "      <td>1977</td>\n",
       "      <td>25</td>\n",
       "      <td>516</td>\n",
       "      <td>4300.0</td>\n",
       "    </tr>\n",
       "    <tr>\n",
       "      <th>2</th>\n",
       "      <td>1978</td>\n",
       "      <td>31</td>\n",
       "      <td>754</td>\n",
       "      <td>5027.0</td>\n",
       "    </tr>\n",
       "    <tr>\n",
       "      <th>3</th>\n",
       "      <td>1979</td>\n",
       "      <td>31</td>\n",
       "      <td>877</td>\n",
       "      <td>5481.0</td>\n",
       "    </tr>\n",
       "    <tr>\n",
       "      <th>4</th>\n",
       "      <td>1980</td>\n",
       "      <td>22</td>\n",
       "      <td>814</td>\n",
       "      <td>5814.0</td>\n",
       "    </tr>\n",
       "    <tr>\n",
       "      <th>5</th>\n",
       "      <td>1981</td>\n",
       "      <td>21</td>\n",
       "      <td>362</td>\n",
       "      <td>6033.0</td>\n",
       "    </tr>\n",
       "    <tr>\n",
       "      <th>6</th>\n",
       "      <td>1982</td>\n",
       "      <td>26</td>\n",
       "      <td>764</td>\n",
       "      <td>5877.0</td>\n",
       "    </tr>\n",
       "    <tr>\n",
       "      <th>7</th>\n",
       "      <td>1983</td>\n",
       "      <td>20</td>\n",
       "      <td>809</td>\n",
       "      <td>6223.0</td>\n",
       "    </tr>\n",
       "    <tr>\n",
       "      <th>8</th>\n",
       "      <td>1984</td>\n",
       "      <td>16</td>\n",
       "      <td>223</td>\n",
       "      <td>7433.0</td>\n",
       "    </tr>\n",
       "    <tr>\n",
       "      <th>9</th>\n",
       "      <td>1985</td>\n",
       "      <td>22</td>\n",
       "      <td>1066</td>\n",
       "      <td>7107.0</td>\n",
       "    </tr>\n",
       "  </tbody>\n",
       "</table>\n",
       "</div>"
      ],
      "text/plain": [
       "   Year  Fatal accidents  Passenger deaths  Miles flown [100 mln miles]\n",
       "0  1976               24               734                       3863.0\n",
       "1  1977               25               516                       4300.0\n",
       "2  1978               31               754                       5027.0\n",
       "3  1979               31               877                       5481.0\n",
       "4  1980               22               814                       5814.0\n",
       "5  1981               21               362                       6033.0\n",
       "6  1982               26               764                       5877.0\n",
       "7  1983               20               809                       6223.0\n",
       "8  1984               16               223                       7433.0\n",
       "9  1985               22              1066                       7107.0"
      ]
     },
     "execution_count": 169,
     "metadata": {},
     "output_type": "execute_result"
    }
   ],
   "source": [
    "df = pd.read_csv('Airline_data.csv')\n",
    "df"
   ]
  },
  {
   "cell_type": "code",
   "execution_count": 170,
   "metadata": {},
   "outputs": [
    {
     "data": {
      "text/html": [
       "<div>\n",
       "<style scoped>\n",
       "    .dataframe tbody tr th:only-of-type {\n",
       "        vertical-align: middle;\n",
       "    }\n",
       "\n",
       "    .dataframe tbody tr th {\n",
       "        vertical-align: top;\n",
       "    }\n",
       "\n",
       "    .dataframe thead th {\n",
       "        text-align: right;\n",
       "    }\n",
       "</style>\n",
       "<table border=\"1\" class=\"dataframe\">\n",
       "  <thead>\n",
       "    <tr style=\"text-align: right;\">\n",
       "      <th></th>\n",
       "      <th>Year</th>\n",
       "      <th>Fatal accidents</th>\n",
       "      <th>Passenger deaths</th>\n",
       "      <th>Miles flown [100 mln miles]</th>\n",
       "    </tr>\n",
       "  </thead>\n",
       "  <tbody>\n",
       "    <tr>\n",
       "      <th>count</th>\n",
       "      <td>10.00000</td>\n",
       "      <td>10.000000</td>\n",
       "      <td>10.000000</td>\n",
       "      <td>10.000000</td>\n",
       "    </tr>\n",
       "    <tr>\n",
       "      <th>mean</th>\n",
       "      <td>1980.50000</td>\n",
       "      <td>23.800000</td>\n",
       "      <td>691.900000</td>\n",
       "      <td>5715.800000</td>\n",
       "    </tr>\n",
       "    <tr>\n",
       "      <th>std</th>\n",
       "      <td>3.02765</td>\n",
       "      <td>4.709329</td>\n",
       "      <td>252.389228</td>\n",
       "      <td>1117.767795</td>\n",
       "    </tr>\n",
       "    <tr>\n",
       "      <th>min</th>\n",
       "      <td>1976.00000</td>\n",
       "      <td>16.000000</td>\n",
       "      <td>223.000000</td>\n",
       "      <td>3863.000000</td>\n",
       "    </tr>\n",
       "    <tr>\n",
       "      <th>25%</th>\n",
       "      <td>1978.25000</td>\n",
       "      <td>21.250000</td>\n",
       "      <td>570.500000</td>\n",
       "      <td>5140.500000</td>\n",
       "    </tr>\n",
       "    <tr>\n",
       "      <th>50%</th>\n",
       "      <td>1980.50000</td>\n",
       "      <td>23.000000</td>\n",
       "      <td>759.000000</td>\n",
       "      <td>5845.500000</td>\n",
       "    </tr>\n",
       "    <tr>\n",
       "      <th>75%</th>\n",
       "      <td>1982.75000</td>\n",
       "      <td>25.750000</td>\n",
       "      <td>812.750000</td>\n",
       "      <td>6175.500000</td>\n",
       "    </tr>\n",
       "    <tr>\n",
       "      <th>max</th>\n",
       "      <td>1985.00000</td>\n",
       "      <td>31.000000</td>\n",
       "      <td>1066.000000</td>\n",
       "      <td>7433.000000</td>\n",
       "    </tr>\n",
       "  </tbody>\n",
       "</table>\n",
       "</div>"
      ],
      "text/plain": [
       "             Year  Fatal accidents  Passenger deaths  \\\n",
       "count    10.00000        10.000000         10.000000   \n",
       "mean   1980.50000        23.800000        691.900000   \n",
       "std       3.02765         4.709329        252.389228   \n",
       "min    1976.00000        16.000000        223.000000   \n",
       "25%    1978.25000        21.250000        570.500000   \n",
       "50%    1980.50000        23.000000        759.000000   \n",
       "75%    1982.75000        25.750000        812.750000   \n",
       "max    1985.00000        31.000000       1066.000000   \n",
       "\n",
       "       Miles flown [100 mln miles]  \n",
       "count                    10.000000  \n",
       "mean                   5715.800000  \n",
       "std                    1117.767795  \n",
       "min                    3863.000000  \n",
       "25%                    5140.500000  \n",
       "50%                    5845.500000  \n",
       "75%                    6175.500000  \n",
       "max                    7433.000000  "
      ]
     },
     "execution_count": 170,
     "metadata": {},
     "output_type": "execute_result"
    }
   ],
   "source": [
    "df.describe()"
   ]
  },
  {
   "cell_type": "code",
   "execution_count": 171,
   "metadata": {},
   "outputs": [
    {
     "name": "stderr",
     "output_type": "stream",
     "text": [
      "INFO:cmdstanpy:found newer exe file, not recompiling\n",
      "INFO:cmdstanpy:CmdStan start processing\n",
      "chain 1 |\u001b[33m          \u001b[0m| 00:00 Status\n",
      "\u001b[A\n",
      "\n",
      "chain 1 |\u001b[34m██████████\u001b[0m| 00:00 Sampling completed\n",
      "chain 2 |\u001b[34m██████████\u001b[0m| 00:00 Sampling completed\n",
      "chain 3 |\u001b[34m██████████\u001b[0m| 00:00 Sampling completed\n",
      "chain 4 |\u001b[34m██████████\u001b[0m| 00:00 Sampling completed"
     ]
    },
    {
     "name": "stdout",
     "output_type": "stream",
     "text": [
      "                                                                                                                                                                                                                                                                                                                                "
     ]
    },
    {
     "name": "stderr",
     "output_type": "stream",
     "text": [
      "\n",
      "INFO:cmdstanpy:CmdStan done processing.\n"
     ]
    },
    {
     "name": "stdout",
     "output_type": "stream",
     "text": [
      "\n"
     ]
    }
   ],
   "source": [
    "model_ppc=CmdStanModel(stan_file='accidents.stan')  \n",
    "\n",
    "sim=model_ppc.sample(data={'N': 10, 'ni': df['Miles flown [100 mln miles]']})"
   ]
  },
  {
   "cell_type": "code",
   "execution_count": 172,
   "metadata": {},
   "outputs": [],
   "source": [
    "df_sim = sim.draws_pd()"
   ]
  },
  {
   "cell_type": "code",
   "execution_count": 173,
   "metadata": {},
   "outputs": [
    {
     "data": {
      "text/html": [
       "<div>\n",
       "<style scoped>\n",
       "    .dataframe tbody tr th:only-of-type {\n",
       "        vertical-align: middle;\n",
       "    }\n",
       "\n",
       "    .dataframe tbody tr th {\n",
       "        vertical-align: top;\n",
       "    }\n",
       "\n",
       "    .dataframe thead th {\n",
       "        text-align: right;\n",
       "    }\n",
       "</style>\n",
       "<table border=\"1\" class=\"dataframe\">\n",
       "  <thead>\n",
       "    <tr style=\"text-align: right;\">\n",
       "      <th></th>\n",
       "      <th>Mean</th>\n",
       "      <th>MCSE</th>\n",
       "      <th>StdDev</th>\n",
       "      <th>5%</th>\n",
       "      <th>50%</th>\n",
       "      <th>95%</th>\n",
       "      <th>N_Eff</th>\n",
       "      <th>N_Eff/s</th>\n",
       "      <th>R_hat</th>\n",
       "    </tr>\n",
       "    <tr>\n",
       "      <th>name</th>\n",
       "      <th></th>\n",
       "      <th></th>\n",
       "      <th></th>\n",
       "      <th></th>\n",
       "      <th></th>\n",
       "      <th></th>\n",
       "      <th></th>\n",
       "      <th></th>\n",
       "      <th></th>\n",
       "    </tr>\n",
       "  </thead>\n",
       "  <tbody>\n",
       "    <tr>\n",
       "      <th>lp__</th>\n",
       "      <td>0.00000</td>\n",
       "      <td>NaN</td>\n",
       "      <td>0.000000</td>\n",
       "      <td>0.0000</td>\n",
       "      <td>0.0000</td>\n",
       "      <td>0.00000</td>\n",
       "      <td>NaN</td>\n",
       "      <td>NaN</td>\n",
       "      <td>NaN</td>\n",
       "    </tr>\n",
       "    <tr>\n",
       "      <th>alfa</th>\n",
       "      <td>2.10000</td>\n",
       "      <td>4.800000e-03</td>\n",
       "      <td>0.300000</td>\n",
       "      <td>2.1000</td>\n",
       "      <td>2.1000</td>\n",
       "      <td>2.10000</td>\n",
       "      <td>4000.0</td>\n",
       "      <td>79000.0</td>\n",
       "      <td>1.0</td>\n",
       "    </tr>\n",
       "    <tr>\n",
       "      <th>theta</th>\n",
       "      <td>0.00019</td>\n",
       "      <td>9.000000e-07</td>\n",
       "      <td>0.000055</td>\n",
       "      <td>0.0001</td>\n",
       "      <td>0.0002</td>\n",
       "      <td>0.00027</td>\n",
       "      <td>3800.0</td>\n",
       "      <td>74000.0</td>\n",
       "      <td>1.0</td>\n",
       "    </tr>\n",
       "    <tr>\n",
       "      <th>y[1]</th>\n",
       "      <td>17.00000</td>\n",
       "      <td>9.500000e-02</td>\n",
       "      <td>5.900000</td>\n",
       "      <td>8.0000</td>\n",
       "      <td>17.0000</td>\n",
       "      <td>27.00000</td>\n",
       "      <td>3843.0</td>\n",
       "      <td>75358.0</td>\n",
       "      <td>1.0</td>\n",
       "    </tr>\n",
       "    <tr>\n",
       "      <th>y[2]</th>\n",
       "      <td>19.00000</td>\n",
       "      <td>1.000000e-01</td>\n",
       "      <td>6.400000</td>\n",
       "      <td>9.0000</td>\n",
       "      <td>19.0000</td>\n",
       "      <td>30.00000</td>\n",
       "      <td>3791.0</td>\n",
       "      <td>74333.0</td>\n",
       "      <td>1.0</td>\n",
       "    </tr>\n",
       "    <tr>\n",
       "      <th>y[3]</th>\n",
       "      <td>22.00000</td>\n",
       "      <td>1.300000e-01</td>\n",
       "      <td>8.000000</td>\n",
       "      <td>10.0000</td>\n",
       "      <td>22.0000</td>\n",
       "      <td>35.00000</td>\n",
       "      <td>3622.0</td>\n",
       "      <td>71027.0</td>\n",
       "      <td>1.0</td>\n",
       "    </tr>\n",
       "    <tr>\n",
       "      <th>y[4]</th>\n",
       "      <td>24.00000</td>\n",
       "      <td>1.400000e-01</td>\n",
       "      <td>8.900000</td>\n",
       "      <td>11.0000</td>\n",
       "      <td>24.0000</td>\n",
       "      <td>40.00000</td>\n",
       "      <td>3960.0</td>\n",
       "      <td>77646.0</td>\n",
       "      <td>1.0</td>\n",
       "    </tr>\n",
       "    <tr>\n",
       "      <th>y[5]</th>\n",
       "      <td>26.00000</td>\n",
       "      <td>1.600000e-01</td>\n",
       "      <td>9.600000</td>\n",
       "      <td>12.0000</td>\n",
       "      <td>25.0000</td>\n",
       "      <td>42.00000</td>\n",
       "      <td>3748.0</td>\n",
       "      <td>73492.0</td>\n",
       "      <td>1.0</td>\n",
       "    </tr>\n",
       "    <tr>\n",
       "      <th>y[6]</th>\n",
       "      <td>27.00000</td>\n",
       "      <td>1.700000e-01</td>\n",
       "      <td>10.000000</td>\n",
       "      <td>13.0000</td>\n",
       "      <td>26.0000</td>\n",
       "      <td>45.00000</td>\n",
       "      <td>3819.0</td>\n",
       "      <td>74889.0</td>\n",
       "      <td>1.0</td>\n",
       "    </tr>\n",
       "    <tr>\n",
       "      <th>y[7]</th>\n",
       "      <td>26.00000</td>\n",
       "      <td>1.600000e-01</td>\n",
       "      <td>9.800000</td>\n",
       "      <td>12.0000</td>\n",
       "      <td>26.0000</td>\n",
       "      <td>43.00000</td>\n",
       "      <td>3938.0</td>\n",
       "      <td>77212.0</td>\n",
       "      <td>1.0</td>\n",
       "    </tr>\n",
       "    <tr>\n",
       "      <th>y[8]</th>\n",
       "      <td>28.00000</td>\n",
       "      <td>1.700000e-01</td>\n",
       "      <td>11.000000</td>\n",
       "      <td>13.0000</td>\n",
       "      <td>28.0000</td>\n",
       "      <td>47.00000</td>\n",
       "      <td>3884.0</td>\n",
       "      <td>76162.0</td>\n",
       "      <td>1.0</td>\n",
       "    </tr>\n",
       "    <tr>\n",
       "      <th>y[9]</th>\n",
       "      <td>37.00000</td>\n",
       "      <td>2.400000e-01</td>\n",
       "      <td>15.000000</td>\n",
       "      <td>16.0000</td>\n",
       "      <td>35.0000</td>\n",
       "      <td>63.00000</td>\n",
       "      <td>3799.0</td>\n",
       "      <td>74499.0</td>\n",
       "      <td>1.0</td>\n",
       "    </tr>\n",
       "    <tr>\n",
       "      <th>y[10]</th>\n",
       "      <td>34.00000</td>\n",
       "      <td>2.200000e-01</td>\n",
       "      <td>14.000000</td>\n",
       "      <td>15.0000</td>\n",
       "      <td>33.0000</td>\n",
       "      <td>60.00000</td>\n",
       "      <td>3903.0</td>\n",
       "      <td>76534.0</td>\n",
       "      <td>1.0</td>\n",
       "    </tr>\n",
       "  </tbody>\n",
       "</table>\n",
       "</div>"
      ],
      "text/plain": [
       "           Mean          MCSE     StdDev       5%      50%       95%   N_Eff  \\\n",
       "name                                                                           \n",
       "lp__    0.00000           NaN   0.000000   0.0000   0.0000   0.00000     NaN   \n",
       "alfa    2.10000  4.800000e-03   0.300000   2.1000   2.1000   2.10000  4000.0   \n",
       "theta   0.00019  9.000000e-07   0.000055   0.0001   0.0002   0.00027  3800.0   \n",
       "y[1]   17.00000  9.500000e-02   5.900000   8.0000  17.0000  27.00000  3843.0   \n",
       "y[2]   19.00000  1.000000e-01   6.400000   9.0000  19.0000  30.00000  3791.0   \n",
       "y[3]   22.00000  1.300000e-01   8.000000  10.0000  22.0000  35.00000  3622.0   \n",
       "y[4]   24.00000  1.400000e-01   8.900000  11.0000  24.0000  40.00000  3960.0   \n",
       "y[5]   26.00000  1.600000e-01   9.600000  12.0000  25.0000  42.00000  3748.0   \n",
       "y[6]   27.00000  1.700000e-01  10.000000  13.0000  26.0000  45.00000  3819.0   \n",
       "y[7]   26.00000  1.600000e-01   9.800000  12.0000  26.0000  43.00000  3938.0   \n",
       "y[8]   28.00000  1.700000e-01  11.000000  13.0000  28.0000  47.00000  3884.0   \n",
       "y[9]   37.00000  2.400000e-01  15.000000  16.0000  35.0000  63.00000  3799.0   \n",
       "y[10]  34.00000  2.200000e-01  14.000000  15.0000  33.0000  60.00000  3903.0   \n",
       "\n",
       "       N_Eff/s  R_hat  \n",
       "name                   \n",
       "lp__       NaN    NaN  \n",
       "alfa   79000.0    1.0  \n",
       "theta  74000.0    1.0  \n",
       "y[1]   75358.0    1.0  \n",
       "y[2]   74333.0    1.0  \n",
       "y[3]   71027.0    1.0  \n",
       "y[4]   77646.0    1.0  \n",
       "y[5]   73492.0    1.0  \n",
       "y[6]   74889.0    1.0  \n",
       "y[7]   77212.0    1.0  \n",
       "y[8]   76162.0    1.0  \n",
       "y[9]   74499.0    1.0  \n",
       "y[10]  76534.0    1.0  "
      ]
     },
     "execution_count": 173,
     "metadata": {},
     "output_type": "execute_result"
    }
   ],
   "source": [
    "sim.summary()"
   ]
  },
  {
   "cell_type": "code",
   "execution_count": 174,
   "metadata": {},
   "outputs": [
    {
     "data": {
      "image/png": "[encoded data removed]",
      "text/plain": [
       "<Figure size 432x288 with 1 Axes>"
      ]
     },
     "metadata": {
      "needs_background": "light"
     },
     "output_type": "display_data"
    }
   ],
   "source": [
    "df_sim.hist(column='y[1]', bins=30)\n",
    "plt.bar(df['Fatal accidents'][0], 200, color = 'r')\n",
    "plt.show()"
   ]
  },
  {
   "cell_type": "code",
   "execution_count": 175,
   "metadata": {},
   "outputs": [
    {
     "data": {
      "image/png": "[encoded data removed]",
      "text/plain": [
       "<Figure size 432x288 with 1 Axes>"
      ]
     },
     "metadata": {
      "needs_background": "light"
     },
     "output_type": "display_data"
    }
   ],
   "source": [
    "df_sim.hist(column='y[2]', bins=30)\n",
    "plt.bar(df['Fatal accidents'][1], 200, color = 'r')\n",
    "plt.show()"
   ]
  },
  {
   "cell_type": "code",
   "execution_count": 176,
   "metadata": {},
   "outputs": [
    {
     "data": {
      "image/png": "[encoded data removed]",
      "text/plain": [
       "<Figure size 432x288 with 1 Axes>"
      ]
     },
     "metadata": {
      "needs_background": "light"
     },
     "output_type": "display_data"
    }
   ],
   "source": [
    "df_sim.hist(column='y[3]', bins=30)\n",
    "plt.bar(df['Fatal accidents'][2], 200, color = 'r')\n",
    "plt.show()"
   ]
  },
  {
   "cell_type": "code",
   "execution_count": 177,
   "metadata": {},
   "outputs": [
    {
     "data": {
      "image/png": "[encoded data removed]",
      "text/plain": [
       "<Figure size 432x288 with 1 Axes>"
      ]
     },
     "metadata": {
      "needs_background": "light"
     },
     "output_type": "display_data"
    }
   ],
   "source": [
    "df_sim.hist(column='y[4]', bins=30)\n",
    "plt.bar(df['Fatal accidents'][3], 200, color = 'r')\n",
    "plt.show()"
   ]
  },
  {
   "cell_type": "code",
   "execution_count": 178,
   "metadata": {},
   "outputs": [
    {
     "data": {
      "image/png": "[encoded data removed]",
      "text/plain": [
       "<Figure size 432x288 with 1 Axes>"
      ]
     },
     "metadata": {
      "needs_background": "light"
     },
     "output_type": "display_data"
    }
   ],
   "source": [
    "df_sim.hist(column='y[5]', bins=30)\n",
    "plt.bar(df['Fatal accidents'][4], 200, color = 'r')\n",
    "plt.show()"
   ]
  },
  {
   "cell_type": "code",
   "execution_count": 179,
   "metadata": {},
   "outputs": [
    {
     "data": {
      "image/png": "[encoded data removed]",
      "text/plain": [
       "<Figure size 432x288 with 1 Axes>"
      ]
     },
     "metadata": {
      "needs_background": "light"
     },
     "output_type": "display_data"
    }
   ],
   "source": [
    "df_sim.hist(column='y[6]', bins=30)\n",
    "plt.bar(df['Fatal accidents'][5], 200, color = 'r')\n",
    "plt.show()"
   ]
  },
  {
   "cell_type": "code",
   "execution_count": 180,
   "metadata": {},
   "outputs": [
    {
     "data": {
      "image/png": "[encoded data removed]",
      "text/plain": [
       "<Figure size 432x288 with 1 Axes>"
      ]
     },
     "metadata": {
      "needs_background": "light"
     },
     "output_type": "display_data"
    }
   ],
   "source": [
    "df_sim.hist(column='y[7]', bins=30)\n",
    "plt.bar(df['Fatal accidents'][6], 200, color = 'r')\n",
    "plt.show()"
   ]
  },
  {
   "cell_type": "code",
   "execution_count": 181,
   "metadata": {},
   "outputs": [
    {
     "data": {
      "image/png": "[encoded data removed]",
      "text/plain": [
       "<Figure size 432x288 with 1 Axes>"
      ]
     },
     "metadata": {
      "needs_background": "light"
     },
     "output_type": "display_data"
    }
   ],
   "source": [
    "df_sim.hist(column='y[8]', bins=30)\n",
    "plt.bar(df['Fatal accidents'][7], 200, color = 'r')\n",
    "plt.show()"
   ]
  },
  {
   "cell_type": "code",
   "execution_count": 182,
   "metadata": {},
   "outputs": [
    {
     "data": {
      "image/png": "[encoded data removed]",
      "text/plain": [
       "<Figure size 432x288 with 1 Axes>"
      ]
     },
     "metadata": {
      "needs_background": "light"
     },
     "output_type": "display_data"
    }
   ],
   "source": [
    "df_sim.hist(column='y[9]', bins=30)\n",
    "plt.bar(df['Fatal accidents'][8], 200, color = 'r')\n",
    "plt.show()"
   ]
  },
  {
   "cell_type": "code",
   "execution_count": 183,
   "metadata": {},
   "outputs": [
    {
     "data": {
      "image/png": "[encoded data removed]",
      "text/plain": [
       "<Figure size 432x288 with 1 Axes>"
      ]
     },
     "metadata": {
      "needs_background": "light"
     },
     "output_type": "display_data"
    }
   ],
   "source": [
    "df_sim.hist(column='y[10]', bins=30)\n",
    "plt.bar(df['Fatal accidents'][9], 200, color = 'r')\n",
    "plt.show()"
   ]
  },
  {
   "cell_type": "code",
   "execution_count": 184,
   "metadata": {},
   "outputs": [
    {
     "name": "stderr",
     "output_type": "stream",
     "text": [
      "INFO:cmdstanpy:compiling stan file /home/lab5/model.stan to exe file /home/lab5/model\n",
      "INFO:cmdstanpy:compiled model executable: /home/lab5/model\n",
      "INFO:cmdstanpy:CmdStan start processing\n",
      "chain 1 |\u001b[33m          \u001b[0m| 00:00 Status\n",
      "\u001b[A\n",
      "\n",
      "chain 1 |\u001b[34m██████▎   \u001b[0m| 00:00 Iteration: 1100 / 2000 [ 55%]  (Sampling)\n",
      "\n",
      "\u001b[A\u001b[A\n",
      "\u001b[A\n",
      "chain 1 |\u001b[34m██████████\u001b[0m| 00:00 Sampling completed                       \n",
      "chain 2 |\u001b[34m██████████\u001b[0m| 00:00 Sampling completed                       \n",
      "\n",
      "chain 3 |\u001b[34m██████████\u001b[0m| 00:00 Sampling completed\n",
      "chain 4 |\u001b[34m██████████\u001b[0m| 00:00 Sampling completed                       "
     ]
    },
    {
     "name": "stdout",
     "output_type": "stream",
     "text": [
      "                                                                                                                                                                                                                                                                                                                                "
     ]
    },
    {
     "name": "stderr",
     "output_type": "stream",
     "text": [
      "\n",
      "INFO:cmdstanpy:CmdStan done processing.\n"
     ]
    },
    {
     "name": "stdout",
     "output_type": "stream",
     "text": [
      "\n"
     ]
    }
   ],
   "source": [
    "model_fit=CmdStanModel(stan_file='model.stan')  # zmienić parametry w stanie, uważać żeby theta nie była za duża\n",
    "\n",
    "sim_fit=model_fit.sample(data={'N': 10, 'ni': df['Miles flown [100 mln miles]'], 'accidents': df['Fatal accidents']})"
   ]
  },
  {
   "cell_type": "code",
   "execution_count": 185,
   "metadata": {},
   "outputs": [
    {
     "data": {
      "text/html": [
       "<div>\n",
       "<style scoped>\n",
       "    .dataframe tbody tr th:only-of-type {\n",
       "        vertical-align: middle;\n",
       "    }\n",
       "\n",
       "    .dataframe tbody tr th {\n",
       "        vertical-align: top;\n",
       "    }\n",
       "\n",
       "    .dataframe thead th {\n",
       "        text-align: right;\n",
       "    }\n",
       "</style>\n",
       "<table border=\"1\" class=\"dataframe\">\n",
       "  <thead>\n",
       "    <tr style=\"text-align: right;\">\n",
       "      <th></th>\n",
       "      <th>Mean</th>\n",
       "      <th>MCSE</th>\n",
       "      <th>StdDev</th>\n",
       "      <th>5%</th>\n",
       "      <th>50%</th>\n",
       "      <th>95%</th>\n",
       "      <th>N_Eff</th>\n",
       "      <th>N_Eff/s</th>\n",
       "      <th>R_hat</th>\n",
       "    </tr>\n",
       "    <tr>\n",
       "      <th>name</th>\n",
       "      <th></th>\n",
       "      <th></th>\n",
       "      <th></th>\n",
       "      <th></th>\n",
       "      <th></th>\n",
       "      <th></th>\n",
       "      <th></th>\n",
       "      <th></th>\n",
       "      <th></th>\n",
       "    </tr>\n",
       "  </thead>\n",
       "  <tbody>\n",
       "    <tr>\n",
       "      <th>lp__</th>\n",
       "      <td>-3.600000e+91</td>\n",
       "      <td>4.700000e+91</td>\n",
       "      <td>9.600000e+91</td>\n",
       "      <td>-2.500000e+92</td>\n",
       "      <td>510.00000</td>\n",
       "      <td>5.100000e+02</td>\n",
       "      <td>4.1</td>\n",
       "      <td>5.4</td>\n",
       "      <td>2.0</td>\n",
       "    </tr>\n",
       "    <tr>\n",
       "      <th>alfa</th>\n",
       "      <td>1.400000e+00</td>\n",
       "      <td>7.900000e-01</td>\n",
       "      <td>1.100000e+00</td>\n",
       "      <td>-5.400000e-01</td>\n",
       "      <td>2.10000</td>\n",
       "      <td>2.100000e+00</td>\n",
       "      <td>2.0</td>\n",
       "      <td>2.7</td>\n",
       "      <td>19.0</td>\n",
       "    </tr>\n",
       "    <tr>\n",
       "      <th>theta</th>\n",
       "      <td>7.300000e-03</td>\n",
       "      <td>8.700000e-03</td>\n",
       "      <td>1.200000e-02</td>\n",
       "      <td>1.600000e-04</td>\n",
       "      <td>0.00019</td>\n",
       "      <td>2.900000e-02</td>\n",
       "      <td>2.0</td>\n",
       "      <td>2.6</td>\n",
       "      <td>320.0</td>\n",
       "    </tr>\n",
       "    <tr>\n",
       "      <th>lambda[1]</th>\n",
       "      <td>1.353271e+47</td>\n",
       "      <td>1.705209e+47</td>\n",
       "      <td>2.762709e+47</td>\n",
       "      <td>1.300000e+01</td>\n",
       "      <td>16.00000</td>\n",
       "      <td>8.026620e+47</td>\n",
       "      <td>2.6</td>\n",
       "      <td>3.5</td>\n",
       "      <td>3.2</td>\n",
       "    </tr>\n",
       "    <tr>\n",
       "      <th>lambda[2]</th>\n",
       "      <td>3.674767e+52</td>\n",
       "      <td>4.652247e+52</td>\n",
       "      <td>7.741454e+52</td>\n",
       "      <td>1.500000e+01</td>\n",
       "      <td>18.00000</td>\n",
       "      <td>2.239770e+53</td>\n",
       "      <td>2.8</td>\n",
       "      <td>3.6</td>\n",
       "      <td>3.0</td>\n",
       "    </tr>\n",
       "    <tr>\n",
       "      <th>lambda[3]</th>\n",
       "      <td>4.056464e+61</td>\n",
       "      <td>5.173337e+61</td>\n",
       "      <td>9.015326e+61</td>\n",
       "      <td>1.700000e+01</td>\n",
       "      <td>20.00000</td>\n",
       "      <td>2.568660e+62</td>\n",
       "      <td>3.0</td>\n",
       "      <td>4.0</td>\n",
       "      <td>2.6</td>\n",
       "    </tr>\n",
       "    <tr>\n",
       "      <th>lambda[4]</th>\n",
       "      <td>1.807914e+67</td>\n",
       "      <td>2.315430e+67</td>\n",
       "      <td>4.155150e+67</td>\n",
       "      <td>1.900000e+01</td>\n",
       "      <td>22.00000</td>\n",
       "      <td>1.167410e+68</td>\n",
       "      <td>3.2</td>\n",
       "      <td>4.2</td>\n",
       "      <td>2.4</td>\n",
       "    </tr>\n",
       "    <tr>\n",
       "      <th>lambda[5]</th>\n",
       "      <td>2.520592e+71</td>\n",
       "      <td>3.237532e+71</td>\n",
       "      <td>5.936476e+71</td>\n",
       "      <td>2.000000e+01</td>\n",
       "      <td>23.00000</td>\n",
       "      <td>1.647780e+72</td>\n",
       "      <td>3.4</td>\n",
       "      <td>4.4</td>\n",
       "      <td>2.3</td>\n",
       "    </tr>\n",
       "    <tr>\n",
       "      <th>lambda[6]</th>\n",
       "      <td>1.341032e+74</td>\n",
       "      <td>1.725593e+74</td>\n",
       "      <td>3.209145e+74</td>\n",
       "      <td>2.100000e+01</td>\n",
       "      <td>24.00000</td>\n",
       "      <td>8.830090e+74</td>\n",
       "      <td>3.5</td>\n",
       "      <td>4.6</td>\n",
       "      <td>2.3</td>\n",
       "    </tr>\n",
       "    <tr>\n",
       "      <th>lambda[7]</th>\n",
       "      <td>1.533363e+72</td>\n",
       "      <td>1.970544e+72</td>\n",
       "      <td>3.628008e+72</td>\n",
       "      <td>2.100000e+01</td>\n",
       "      <td>23.00000</td>\n",
       "      <td>1.004550e+73</td>\n",
       "      <td>3.4</td>\n",
       "      <td>4.5</td>\n",
       "      <td>2.3</td>\n",
       "    </tr>\n",
       "    <tr>\n",
       "      <th>lambda[8]</th>\n",
       "      <td>3.109218e+76</td>\n",
       "      <td>4.006901e+76</td>\n",
       "      <td>7.543290e+76</td>\n",
       "      <td>2.200000e+01</td>\n",
       "      <td>25.00000</td>\n",
       "      <td>2.058960e+77</td>\n",
       "      <td>3.5</td>\n",
       "      <td>4.7</td>\n",
       "      <td>2.2</td>\n",
       "    </tr>\n",
       "    <tr>\n",
       "      <th>lambda[9]</th>\n",
       "      <td>3.633609e+91</td>\n",
       "      <td>4.722591e+91</td>\n",
       "      <td>9.590138e+91</td>\n",
       "      <td>2.700000e+01</td>\n",
       "      <td>32.00000</td>\n",
       "      <td>2.466320e+92</td>\n",
       "      <td>4.1</td>\n",
       "      <td>5.4</td>\n",
       "      <td>2.0</td>\n",
       "    </tr>\n",
       "    <tr>\n",
       "      <th>lambda[10]</th>\n",
       "      <td>3.161982e+87</td>\n",
       "      <td>4.101001e+87</td>\n",
       "      <td>8.163106e+87</td>\n",
       "      <td>2.600000e+01</td>\n",
       "      <td>30.00000</td>\n",
       "      <td>2.136020e+88</td>\n",
       "      <td>4.0</td>\n",
       "      <td>5.2</td>\n",
       "      <td>2.0</td>\n",
       "    </tr>\n",
       "    <tr>\n",
       "      <th>y[1]</th>\n",
       "      <td>1.200000e+01</td>\n",
       "      <td>1.700000e-01</td>\n",
       "      <td>7.600000e+00</td>\n",
       "      <td>0.000000e+00</td>\n",
       "      <td>14.00000</td>\n",
       "      <td>2.200000e+01</td>\n",
       "      <td>2000.0</td>\n",
       "      <td>2635.0</td>\n",
       "      <td>2.3</td>\n",
       "    </tr>\n",
       "    <tr>\n",
       "      <th>y[2]</th>\n",
       "      <td>1.300000e+01</td>\n",
       "      <td>1.800000e-01</td>\n",
       "      <td>8.200000e+00</td>\n",
       "      <td>0.000000e+00</td>\n",
       "      <td>15.00000</td>\n",
       "      <td>2.400000e+01</td>\n",
       "      <td>2000.0</td>\n",
       "      <td>2635.0</td>\n",
       "      <td>2.4</td>\n",
       "    </tr>\n",
       "    <tr>\n",
       "      <th>y[3]</th>\n",
       "      <td>1.500000e+01</td>\n",
       "      <td>2.100000e-01</td>\n",
       "      <td>9.200000e+00</td>\n",
       "      <td>0.000000e+00</td>\n",
       "      <td>17.00000</td>\n",
       "      <td>2.600000e+01</td>\n",
       "      <td>2000.0</td>\n",
       "      <td>2635.0</td>\n",
       "      <td>2.6</td>\n",
       "    </tr>\n",
       "    <tr>\n",
       "      <th>y[4]</th>\n",
       "      <td>1.600000e+01</td>\n",
       "      <td>2.300000e-01</td>\n",
       "      <td>1.000000e+01</td>\n",
       "      <td>0.000000e+00</td>\n",
       "      <td>19.00000</td>\n",
       "      <td>2.900000e+01</td>\n",
       "      <td>2000.0</td>\n",
       "      <td>2635.0</td>\n",
       "      <td>2.5</td>\n",
       "    </tr>\n",
       "    <tr>\n",
       "      <th>y[5]</th>\n",
       "      <td>1.700000e+01</td>\n",
       "      <td>2.400000e-01</td>\n",
       "      <td>1.100000e+01</td>\n",
       "      <td>0.000000e+00</td>\n",
       "      <td>20.00000</td>\n",
       "      <td>3.000000e+01</td>\n",
       "      <td>2000.0</td>\n",
       "      <td>2635.0</td>\n",
       "      <td>2.7</td>\n",
       "    </tr>\n",
       "    <tr>\n",
       "      <th>y[6]</th>\n",
       "      <td>1.800000e+01</td>\n",
       "      <td>2.500000e-01</td>\n",
       "      <td>1.100000e+01</td>\n",
       "      <td>0.000000e+00</td>\n",
       "      <td>21.00000</td>\n",
       "      <td>3.100000e+01</td>\n",
       "      <td>2000.0</td>\n",
       "      <td>2635.0</td>\n",
       "      <td>2.7</td>\n",
       "    </tr>\n",
       "    <tr>\n",
       "      <th>y[7]</th>\n",
       "      <td>1.700000e+01</td>\n",
       "      <td>2.400000e-01</td>\n",
       "      <td>1.100000e+01</td>\n",
       "      <td>0.000000e+00</td>\n",
       "      <td>20.00000</td>\n",
       "      <td>3.000000e+01</td>\n",
       "      <td>2000.0</td>\n",
       "      <td>2635.0</td>\n",
       "      <td>2.7</td>\n",
       "    </tr>\n",
       "    <tr>\n",
       "      <th>y[8]</th>\n",
       "      <td>1.800000e+01</td>\n",
       "      <td>2.600000e-01</td>\n",
       "      <td>1.200000e+01</td>\n",
       "      <td>0.000000e+00</td>\n",
       "      <td>22.00000</td>\n",
       "      <td>3.300000e+01</td>\n",
       "      <td>2000.0</td>\n",
       "      <td>2635.0</td>\n",
       "      <td>2.7</td>\n",
       "    </tr>\n",
       "    <tr>\n",
       "      <th>y[9]</th>\n",
       "      <td>2.300000e+01</td>\n",
       "      <td>3.200000e-01</td>\n",
       "      <td>1.400000e+01</td>\n",
       "      <td>0.000000e+00</td>\n",
       "      <td>28.00000</td>\n",
       "      <td>4.000000e+01</td>\n",
       "      <td>2000.0</td>\n",
       "      <td>2635.0</td>\n",
       "      <td>2.9</td>\n",
       "    </tr>\n",
       "    <tr>\n",
       "      <th>y[10]</th>\n",
       "      <td>2.200000e+01</td>\n",
       "      <td>3.000000e-01</td>\n",
       "      <td>1.300000e+01</td>\n",
       "      <td>0.000000e+00</td>\n",
       "      <td>26.00000</td>\n",
       "      <td>3.700000e+01</td>\n",
       "      <td>2000.0</td>\n",
       "      <td>2635.0</td>\n",
       "      <td>2.9</td>\n",
       "    </tr>\n",
       "  </tbody>\n",
       "</table>\n",
       "</div>"
      ],
      "text/plain": [
       "                    Mean          MCSE        StdDev            5%        50%  \\\n",
       "name                                                                            \n",
       "lp__       -3.600000e+91  4.700000e+91  9.600000e+91 -2.500000e+92  510.00000   \n",
       "alfa        1.400000e+00  7.900000e-01  1.100000e+00 -5.400000e-01    2.10000   \n",
       "theta       7.300000e-03  8.700000e-03  1.200000e-02  1.600000e-04    0.00019   \n",
       "lambda[1]   1.353271e+47  1.705209e+47  2.762709e+47  1.300000e+01   16.00000   \n",
       "lambda[2]   3.674767e+52  4.652247e+52  7.741454e+52  1.500000e+01   18.00000   \n",
       "lambda[3]   4.056464e+61  5.173337e+61  9.015326e+61  1.700000e+01   20.00000   \n",
       "lambda[4]   1.807914e+67  2.315430e+67  4.155150e+67  1.900000e+01   22.00000   \n",
       "lambda[5]   2.520592e+71  3.237532e+71  5.936476e+71  2.000000e+01   23.00000   \n",
       "lambda[6]   1.341032e+74  1.725593e+74  3.209145e+74  2.100000e+01   24.00000   \n",
       "lambda[7]   1.533363e+72  1.970544e+72  3.628008e+72  2.100000e+01   23.00000   \n",
       "lambda[8]   3.109218e+76  4.006901e+76  7.543290e+76  2.200000e+01   25.00000   \n",
       "lambda[9]   3.633609e+91  4.722591e+91  9.590138e+91  2.700000e+01   32.00000   \n",
       "lambda[10]  3.161982e+87  4.101001e+87  8.163106e+87  2.600000e+01   30.00000   \n",
       "y[1]        1.200000e+01  1.700000e-01  7.600000e+00  0.000000e+00   14.00000   \n",
       "y[2]        1.300000e+01  1.800000e-01  8.200000e+00  0.000000e+00   15.00000   \n",
       "y[3]        1.500000e+01  2.100000e-01  9.200000e+00  0.000000e+00   17.00000   \n",
       "y[4]        1.600000e+01  2.300000e-01  1.000000e+01  0.000000e+00   19.00000   \n",
       "y[5]        1.700000e+01  2.400000e-01  1.100000e+01  0.000000e+00   20.00000   \n",
       "y[6]        1.800000e+01  2.500000e-01  1.100000e+01  0.000000e+00   21.00000   \n",
       "y[7]        1.700000e+01  2.400000e-01  1.100000e+01  0.000000e+00   20.00000   \n",
       "y[8]        1.800000e+01  2.600000e-01  1.200000e+01  0.000000e+00   22.00000   \n",
       "y[9]        2.300000e+01  3.200000e-01  1.400000e+01  0.000000e+00   28.00000   \n",
       "y[10]       2.200000e+01  3.000000e-01  1.300000e+01  0.000000e+00   26.00000   \n",
       "\n",
       "                     95%   N_Eff  N_Eff/s  R_hat  \n",
       "name                                              \n",
       "lp__        5.100000e+02     4.1      5.4    2.0  \n",
       "alfa        2.100000e+00     2.0      2.7   19.0  \n",
       "theta       2.900000e-02     2.0      2.6  320.0  \n",
       "lambda[1]   8.026620e+47     2.6      3.5    3.2  \n",
       "lambda[2]   2.239770e+53     2.8      3.6    3.0  \n",
       "lambda[3]   2.568660e+62     3.0      4.0    2.6  \n",
       "lambda[4]   1.167410e+68     3.2      4.2    2.4  \n",
       "lambda[5]   1.647780e+72     3.4      4.4    2.3  \n",
       "lambda[6]   8.830090e+74     3.5      4.6    2.3  \n",
       "lambda[7]   1.004550e+73     3.4      4.5    2.3  \n",
       "lambda[8]   2.058960e+77     3.5      4.7    2.2  \n",
       "lambda[9]   2.466320e+92     4.1      5.4    2.0  \n",
       "lambda[10]  2.136020e+88     4.0      5.2    2.0  \n",
       "y[1]        2.200000e+01  2000.0   2635.0    2.3  \n",
       "y[2]        2.400000e+01  2000.0   2635.0    2.4  \n",
       "y[3]        2.600000e+01  2000.0   2635.0    2.6  \n",
       "y[4]        2.900000e+01  2000.0   2635.0    2.5  \n",
       "y[5]        3.000000e+01  2000.0   2635.0    2.7  \n",
       "y[6]        3.100000e+01  2000.0   2635.0    2.7  \n",
       "y[7]        3.000000e+01  2000.0   2635.0    2.7  \n",
       "y[8]        3.300000e+01  2000.0   2635.0    2.7  \n",
       "y[9]        4.000000e+01  2000.0   2635.0    2.9  \n",
       "y[10]       3.700000e+01  2000.0   2635.0    2.9  "
      ]
     },
     "execution_count": 185,
     "metadata": {},
     "output_type": "execute_result"
    }
   ],
   "source": [
    "sim_fit.summary()"
   ]
  },
  {
   "cell_type": "code",
   "execution_count": 186,
   "metadata": {},
   "outputs": [
    {
     "data": {
      "image/png": "[encoded data removed]",
      "text/plain": [
       "<Figure size 432x288 with 1 Axes>"
      ]
     },
     "metadata": {
      "needs_background": "light"
     },
     "output_type": "display_data"
    }
   ],
   "source": [
    "df_sim = sim_fit.draws_pd()\n",
    "df_sim.hist(column='y[1]', bins=30)\n",
    "plt.bar(df['Fatal accidents'][0], 200, color = 'r')\n",
    "plt.show()"
   ]
  },
  {
   "cell_type": "code",
   "execution_count": 187,
   "metadata": {},
   "outputs": [
    {
     "data": {
      "image/png": "[encoded data removed]",
      "text/plain": [
       "<Figure size 432x288 with 1 Axes>"
      ]
     },
     "metadata": {
      "needs_background": "light"
     },
     "output_type": "display_data"
    }
   ],
   "source": [
    "df_sim.hist(column='y[2]', bins=30)\n",
    "plt.bar(df['Fatal accidents'][1], 200, color = 'r')\n",
    "plt.show()"
   ]
  },
  {
   "cell_type": "code",
   "execution_count": 188,
   "metadata": {},
   "outputs": [
    {
     "data": {
      "image/png": "[encoded data removed]",
      "text/plain": [
       "<Figure size 432x288 with 1 Axes>"
      ]
     },
     "metadata": {
      "needs_background": "light"
     },
     "output_type": "display_data"
    }
   ],
   "source": [
    "df_sim.hist(column='y[3]', bins=30)\n",
    "plt.bar(df['Fatal accidents'][2], 200, color = 'r')\n",
    "plt.show()"
   ]
  },
  {
   "cell_type": "code",
   "execution_count": 189,
   "metadata": {},
   "outputs": [
    {
     "data": {
      "image/png": "[encoded data removed]",
      "text/plain": [
       "<Figure size 432x288 with 1 Axes>"
      ]
     },
     "metadata": {
      "needs_background": "light"
     },
     "output_type": "display_data"
    }
   ],
   "source": [
    "df_sim.hist(column='y[4]', bins=30)\n",
    "plt.bar(df['Fatal accidents'][3], 200, color = 'r')\n",
    "plt.show()"
   ]
  },
  {
   "cell_type": "code",
   "execution_count": 190,
   "metadata": {},
   "outputs": [
    {
     "data": {
      "image/png": "[encoded data removed]",
      "text/plain": [
       "<Figure size 432x288 with 1 Axes>"
      ]
     },
     "metadata": {
      "needs_background": "light"
     },
     "output_type": "display_data"
    }
   ],
   "source": [
    "df_sim.hist(column='y[5]', bins=30)\n",
    "plt.bar(df['Fatal accidents'][4], 200, color = 'r')\n",
    "plt.show()"
   ]
  },
  {
   "cell_type": "code",
   "execution_count": 191,
   "metadata": {},
   "outputs": [
    {
     "data": {
      "image/png": "[encoded data removed]",
      "text/plain": [
       "<Figure size 432x288 with 1 Axes>"
      ]
     },
     "metadata": {
      "needs_background": "light"
     },
     "output_type": "display_data"
    }
   ],
   "source": [
    "df_sim.hist(column='y[6]', bins=30)\n",
    "plt.bar(df['Fatal accidents'][5], 200, color = 'r')\n",
    "plt.show()"
   ]
  },
  {
   "cell_type": "code",
   "execution_count": 192,
   "metadata": {},
   "outputs": [
    {
     "data": {
      "image/png": "[encoded data removed]",
      "text/plain": [
       "<Figure size 432x288 with 1 Axes>"
      ]
     },
     "metadata": {
      "needs_background": "light"
     },
     "output_type": "display_data"
    }
   ],
   "source": [
    "df_sim.hist(column='y[7]', bins=30)\n",
    "plt.bar(df['Fatal accidents'][6], 200, color = 'r')\n",
    "plt.show()"
   ]
  },
  {
   "cell_type": "code",
   "execution_count": 193,
   "metadata": {},
   "outputs": [
    {
     "data": {
      "image/png": "[encoded data removed]",
      "text/plain": [
       "<Figure size 432x288 with 1 Axes>"
      ]
     },
     "metadata": {
      "needs_background": "light"
     },
     "output_type": "display_data"
    }
   ],
   "source": [
    "df_sim.hist(column='y[8]', bins=30)\n",
    "plt.bar(df['Fatal accidents'][7], 200, color = 'r')\n",
    "plt.show()"
   ]
  },
  {
   "cell_type": "code",
   "execution_count": 194,
   "metadata": {},
   "outputs": [
    {
     "data": {
      "image/png": "[encoded data removed]",
      "text/plain": [
       "<Figure size 432x288 with 1 Axes>"
      ]
     },
     "metadata": {
      "needs_background": "light"
     },
     "output_type": "display_data"
    }
   ],
   "source": [
    "df_sim.hist(column='y[9]', bins=30)\n",
    "plt.bar(df['Fatal accidents'][8], 200, color = 'r')\n",
    "plt.show()"
   ]
  },
  {
   "cell_type": "code",
   "execution_count": 195,
   "metadata": {},
   "outputs": [
    {
     "data": {
      "image/png": "[encoded data removed]",
      "text/plain": [
       "<Figure size 432x288 with 1 Axes>"
      ]
     },
     "metadata": {
      "needs_background": "light"
     },
     "output_type": "display_data"
    }
   ],
   "source": [
    "df_sim.hist(column='y[10]', bins=30)\n",
    "plt.bar(df['Fatal accidents'][9], 200, color = 'r')\n",
    "plt.show()"
   ]
  },
  {
   "cell_type": "code",
   "execution_count": 196,
   "metadata": {},
   "outputs": [
    {
     "name": "stderr",
     "output_type": "stream",
     "text": [
      "INFO:cmdstanpy:compiling stan file /home/lab5/alfa_array.stan to exe file /home/lab5/alfa_array\n",
      "INFO:cmdstanpy:compiled model executable: /home/lab5/alfa_array\n",
      "INFO:cmdstanpy:CmdStan start processing\n",
      "chain 1 |\u001b[33m          \u001b[0m| 00:00 Status\n",
      "\u001b[A\n",
      "\n",
      "chain 1 |\u001b[34m██████████\u001b[0m| 00:00 Sampling completed                      \n",
      "chain 2 |\u001b[34m██████████\u001b[0m| 00:00 Sampling completed                      \n",
      "\n",
      "chain 3 |\u001b[34m██████████\u001b[0m| 00:00 Sampling completed\n",
      "\n",
      "\n",
      "chain 4 |\u001b[34m██████████\u001b[0m| 00:00 Sampling completed"
     ]
    },
    {
     "name": "stdout",
     "output_type": "stream",
     "text": [
      "                                                                                                                                                                                                                                                                                                                                "
     ]
    },
    {
     "name": "stderr",
     "output_type": "stream",
     "text": [
      "\n",
      "INFO:cmdstanpy:CmdStan done processing.\n"
     ]
    },
    {
     "name": "stdout",
     "output_type": "stream",
     "text": [
      "\n"
     ]
    }
   ],
   "source": [
    "model2_ppc=CmdStanModel(stan_file='alfa_array.stan') \n",
    "\n",
    "sim2=model2_ppc.sample(data={'N': 10, 'ni': df['Miles flown [100 mln miles]']})"
   ]
  },
  {
   "cell_type": "code",
   "execution_count": 197,
   "metadata": {},
   "outputs": [
    {
     "data": {
      "text/html": [
       "<div>\n",
       "<style scoped>\n",
       "    .dataframe tbody tr th:only-of-type {\n",
       "        vertical-align: middle;\n",
       "    }\n",
       "\n",
       "    .dataframe tbody tr th {\n",
       "        vertical-align: top;\n",
       "    }\n",
       "\n",
       "    .dataframe thead th {\n",
       "        text-align: right;\n",
       "    }\n",
       "</style>\n",
       "<table border=\"1\" class=\"dataframe\">\n",
       "  <thead>\n",
       "    <tr style=\"text-align: right;\">\n",
       "      <th></th>\n",
       "      <th>Mean</th>\n",
       "      <th>MCSE</th>\n",
       "      <th>StdDev</th>\n",
       "      <th>5%</th>\n",
       "      <th>50%</th>\n",
       "      <th>95%</th>\n",
       "      <th>N_Eff</th>\n",
       "      <th>N_Eff/s</th>\n",
       "      <th>R_hat</th>\n",
       "    </tr>\n",
       "    <tr>\n",
       "      <th>name</th>\n",
       "      <th></th>\n",
       "      <th></th>\n",
       "      <th></th>\n",
       "      <th></th>\n",
       "      <th></th>\n",
       "      <th></th>\n",
       "      <th></th>\n",
       "      <th></th>\n",
       "      <th></th>\n",
       "    </tr>\n",
       "  </thead>\n",
       "  <tbody>\n",
       "    <tr>\n",
       "      <th>lp__</th>\n",
       "      <td>0.00000</td>\n",
       "      <td>NaN</td>\n",
       "      <td>0.000000</td>\n",
       "      <td>0.00000</td>\n",
       "      <td>0.0000</td>\n",
       "      <td>0.00000</td>\n",
       "      <td>NaN</td>\n",
       "      <td>NaN</td>\n",
       "      <td>NaN</td>\n",
       "    </tr>\n",
       "    <tr>\n",
       "      <th>theta</th>\n",
       "      <td>0.00019</td>\n",
       "      <td>8.600000e-07</td>\n",
       "      <td>0.000053</td>\n",
       "      <td>0.00011</td>\n",
       "      <td>0.0002</td>\n",
       "      <td>0.00027</td>\n",
       "      <td>3900.0</td>\n",
       "      <td>36000.0</td>\n",
       "      <td>1.0</td>\n",
       "    </tr>\n",
       "    <tr>\n",
       "      <th>alfa[1]</th>\n",
       "      <td>2.10000</td>\n",
       "      <td>4.900000e-03</td>\n",
       "      <td>0.290000</td>\n",
       "      <td>2.10000</td>\n",
       "      <td>2.1000</td>\n",
       "      <td>2.10000</td>\n",
       "      <td>3475.0</td>\n",
       "      <td>32174.0</td>\n",
       "      <td>1.0</td>\n",
       "    </tr>\n",
       "    <tr>\n",
       "      <th>alfa[2]</th>\n",
       "      <td>2.10000</td>\n",
       "      <td>4.900000e-03</td>\n",
       "      <td>0.290000</td>\n",
       "      <td>2.10000</td>\n",
       "      <td>2.1000</td>\n",
       "      <td>2.10000</td>\n",
       "      <td>3477.0</td>\n",
       "      <td>32191.0</td>\n",
       "      <td>1.0</td>\n",
       "    </tr>\n",
       "    <tr>\n",
       "      <th>alfa[3]</th>\n",
       "      <td>2.10000</td>\n",
       "      <td>4.900000e-03</td>\n",
       "      <td>0.290000</td>\n",
       "      <td>2.10000</td>\n",
       "      <td>2.1000</td>\n",
       "      <td>2.10000</td>\n",
       "      <td>3507.0</td>\n",
       "      <td>32476.0</td>\n",
       "      <td>1.0</td>\n",
       "    </tr>\n",
       "    <tr>\n",
       "      <th>alfa[4]</th>\n",
       "      <td>2.10000</td>\n",
       "      <td>4.900000e-03</td>\n",
       "      <td>0.290000</td>\n",
       "      <td>2.10000</td>\n",
       "      <td>2.1000</td>\n",
       "      <td>2.10000</td>\n",
       "      <td>3496.0</td>\n",
       "      <td>32372.0</td>\n",
       "      <td>1.0</td>\n",
       "    </tr>\n",
       "    <tr>\n",
       "      <th>alfa[5]</th>\n",
       "      <td>2.10000</td>\n",
       "      <td>4.900000e-03</td>\n",
       "      <td>0.290000</td>\n",
       "      <td>2.10000</td>\n",
       "      <td>2.1000</td>\n",
       "      <td>2.10000</td>\n",
       "      <td>3476.0</td>\n",
       "      <td>32189.0</td>\n",
       "      <td>1.0</td>\n",
       "    </tr>\n",
       "    <tr>\n",
       "      <th>alfa[6]</th>\n",
       "      <td>2.10000</td>\n",
       "      <td>4.900000e-03</td>\n",
       "      <td>0.290000</td>\n",
       "      <td>2.10000</td>\n",
       "      <td>2.1000</td>\n",
       "      <td>2.10000</td>\n",
       "      <td>3493.0</td>\n",
       "      <td>32347.0</td>\n",
       "      <td>1.0</td>\n",
       "    </tr>\n",
       "    <tr>\n",
       "      <th>alfa[7]</th>\n",
       "      <td>2.10000</td>\n",
       "      <td>4.900000e-03</td>\n",
       "      <td>0.290000</td>\n",
       "      <td>2.10000</td>\n",
       "      <td>2.1000</td>\n",
       "      <td>2.10000</td>\n",
       "      <td>3510.0</td>\n",
       "      <td>32503.0</td>\n",
       "      <td>1.0</td>\n",
       "    </tr>\n",
       "    <tr>\n",
       "      <th>alfa[8]</th>\n",
       "      <td>2.10000</td>\n",
       "      <td>4.900000e-03</td>\n",
       "      <td>0.290000</td>\n",
       "      <td>2.10000</td>\n",
       "      <td>2.1000</td>\n",
       "      <td>2.10000</td>\n",
       "      <td>3500.0</td>\n",
       "      <td>32410.0</td>\n",
       "      <td>1.0</td>\n",
       "    </tr>\n",
       "    <tr>\n",
       "      <th>alfa[9]</th>\n",
       "      <td>2.10000</td>\n",
       "      <td>4.900000e-03</td>\n",
       "      <td>0.290000</td>\n",
       "      <td>2.10000</td>\n",
       "      <td>2.1000</td>\n",
       "      <td>2.10000</td>\n",
       "      <td>3522.0</td>\n",
       "      <td>32612.0</td>\n",
       "      <td>1.0</td>\n",
       "    </tr>\n",
       "    <tr>\n",
       "      <th>alfa[10]</th>\n",
       "      <td>2.10000</td>\n",
       "      <td>4.900000e-03</td>\n",
       "      <td>0.290000</td>\n",
       "      <td>2.10000</td>\n",
       "      <td>2.1000</td>\n",
       "      <td>2.10000</td>\n",
       "      <td>3532.0</td>\n",
       "      <td>32707.0</td>\n",
       "      <td>1.0</td>\n",
       "    </tr>\n",
       "    <tr>\n",
       "      <th>y[1]</th>\n",
       "      <td>17.00000</td>\n",
       "      <td>9.500000e-02</td>\n",
       "      <td>5.800000</td>\n",
       "      <td>9.00000</td>\n",
       "      <td>17.0000</td>\n",
       "      <td>27.00000</td>\n",
       "      <td>3704.0</td>\n",
       "      <td>34299.0</td>\n",
       "      <td>1.0</td>\n",
       "    </tr>\n",
       "    <tr>\n",
       "      <th>y[2]</th>\n",
       "      <td>19.00000</td>\n",
       "      <td>1.000000e-01</td>\n",
       "      <td>6.300000</td>\n",
       "      <td>10.00000</td>\n",
       "      <td>19.0000</td>\n",
       "      <td>30.00000</td>\n",
       "      <td>3966.0</td>\n",
       "      <td>36723.0</td>\n",
       "      <td>1.0</td>\n",
       "    </tr>\n",
       "    <tr>\n",
       "      <th>y[3]</th>\n",
       "      <td>22.00000</td>\n",
       "      <td>1.300000e-01</td>\n",
       "      <td>7.600000</td>\n",
       "      <td>11.00000</td>\n",
       "      <td>22.0000</td>\n",
       "      <td>35.00000</td>\n",
       "      <td>3695.0</td>\n",
       "      <td>34215.0</td>\n",
       "      <td>1.0</td>\n",
       "    </tr>\n",
       "    <tr>\n",
       "      <th>y[4]</th>\n",
       "      <td>25.00000</td>\n",
       "      <td>1.400000e-01</td>\n",
       "      <td>8.600000</td>\n",
       "      <td>12.00000</td>\n",
       "      <td>24.0000</td>\n",
       "      <td>39.00000</td>\n",
       "      <td>3744.0</td>\n",
       "      <td>34668.0</td>\n",
       "      <td>1.0</td>\n",
       "    </tr>\n",
       "    <tr>\n",
       "      <th>y[5]</th>\n",
       "      <td>26.00000</td>\n",
       "      <td>1.500000e-01</td>\n",
       "      <td>9.500000</td>\n",
       "      <td>12.00000</td>\n",
       "      <td>26.0000</td>\n",
       "      <td>42.00000</td>\n",
       "      <td>3862.0</td>\n",
       "      <td>35759.0</td>\n",
       "      <td>1.0</td>\n",
       "    </tr>\n",
       "    <tr>\n",
       "      <th>y[6]</th>\n",
       "      <td>27.00000</td>\n",
       "      <td>1.600000e-01</td>\n",
       "      <td>9.900000</td>\n",
       "      <td>13.00000</td>\n",
       "      <td>27.0000</td>\n",
       "      <td>43.00000</td>\n",
       "      <td>3915.0</td>\n",
       "      <td>36250.0</td>\n",
       "      <td>1.0</td>\n",
       "    </tr>\n",
       "    <tr>\n",
       "      <th>y[7]</th>\n",
       "      <td>26.00000</td>\n",
       "      <td>1.500000e-01</td>\n",
       "      <td>9.500000</td>\n",
       "      <td>13.00000</td>\n",
       "      <td>26.0000</td>\n",
       "      <td>43.00000</td>\n",
       "      <td>3966.0</td>\n",
       "      <td>36718.0</td>\n",
       "      <td>1.0</td>\n",
       "    </tr>\n",
       "    <tr>\n",
       "      <th>y[8]</th>\n",
       "      <td>29.00000</td>\n",
       "      <td>1.700000e-01</td>\n",
       "      <td>11.000000</td>\n",
       "      <td>13.00000</td>\n",
       "      <td>28.0000</td>\n",
       "      <td>47.00000</td>\n",
       "      <td>4038.0</td>\n",
       "      <td>37385.0</td>\n",
       "      <td>1.0</td>\n",
       "    </tr>\n",
       "    <tr>\n",
       "      <th>y[9]</th>\n",
       "      <td>37.00000</td>\n",
       "      <td>2.400000e-01</td>\n",
       "      <td>15.000000</td>\n",
       "      <td>16.00000</td>\n",
       "      <td>35.0000</td>\n",
       "      <td>64.00000</td>\n",
       "      <td>3815.0</td>\n",
       "      <td>35322.0</td>\n",
       "      <td>1.0</td>\n",
       "    </tr>\n",
       "    <tr>\n",
       "      <th>y[10]</th>\n",
       "      <td>34.00000</td>\n",
       "      <td>2.200000e-01</td>\n",
       "      <td>14.000000</td>\n",
       "      <td>15.00000</td>\n",
       "      <td>33.0000</td>\n",
       "      <td>58.00000</td>\n",
       "      <td>3915.0</td>\n",
       "      <td>36247.0</td>\n",
       "      <td>1.0</td>\n",
       "    </tr>\n",
       "  </tbody>\n",
       "</table>\n",
       "</div>"
      ],
      "text/plain": [
       "              Mean          MCSE     StdDev        5%      50%       95%  \\\n",
       "name                                                                       \n",
       "lp__       0.00000           NaN   0.000000   0.00000   0.0000   0.00000   \n",
       "theta      0.00019  8.600000e-07   0.000053   0.00011   0.0002   0.00027   \n",
       "alfa[1]    2.10000  4.900000e-03   0.290000   2.10000   2.1000   2.10000   \n",
       "alfa[2]    2.10000  4.900000e-03   0.290000   2.10000   2.1000   2.10000   \n",
       "alfa[3]    2.10000  4.900000e-03   0.290000   2.10000   2.1000   2.10000   \n",
       "alfa[4]    2.10000  4.900000e-03   0.290000   2.10000   2.1000   2.10000   \n",
       "alfa[5]    2.10000  4.900000e-03   0.290000   2.10000   2.1000   2.10000   \n",
       "alfa[6]    2.10000  4.900000e-03   0.290000   2.10000   2.1000   2.10000   \n",
       "alfa[7]    2.10000  4.900000e-03   0.290000   2.10000   2.1000   2.10000   \n",
       "alfa[8]    2.10000  4.900000e-03   0.290000   2.10000   2.1000   2.10000   \n",
       "alfa[9]    2.10000  4.900000e-03   0.290000   2.10000   2.1000   2.10000   \n",
       "alfa[10]   2.10000  4.900000e-03   0.290000   2.10000   2.1000   2.10000   \n",
       "y[1]      17.00000  9.500000e-02   5.800000   9.00000  17.0000  27.00000   \n",
       "y[2]      19.00000  1.000000e-01   6.300000  10.00000  19.0000  30.00000   \n",
       "y[3]      22.00000  1.300000e-01   7.600000  11.00000  22.0000  35.00000   \n",
       "y[4]      25.00000  1.400000e-01   8.600000  12.00000  24.0000  39.00000   \n",
       "y[5]      26.00000  1.500000e-01   9.500000  12.00000  26.0000  42.00000   \n",
       "y[6]      27.00000  1.600000e-01   9.900000  13.00000  27.0000  43.00000   \n",
       "y[7]      26.00000  1.500000e-01   9.500000  13.00000  26.0000  43.00000   \n",
       "y[8]      29.00000  1.700000e-01  11.000000  13.00000  28.0000  47.00000   \n",
       "y[9]      37.00000  2.400000e-01  15.000000  16.00000  35.0000  64.00000   \n",
       "y[10]     34.00000  2.200000e-01  14.000000  15.00000  33.0000  58.00000   \n",
       "\n",
       "           N_Eff  N_Eff/s  R_hat  \n",
       "name                              \n",
       "lp__         NaN      NaN    NaN  \n",
       "theta     3900.0  36000.0    1.0  \n",
       "alfa[1]   3475.0  32174.0    1.0  \n",
       "alfa[2]   3477.0  32191.0    1.0  \n",
       "alfa[3]   3507.0  32476.0    1.0  \n",
       "alfa[4]   3496.0  32372.0    1.0  \n",
       "alfa[5]   3476.0  32189.0    1.0  \n",
       "alfa[6]   3493.0  32347.0    1.0  \n",
       "alfa[7]   3510.0  32503.0    1.0  \n",
       "alfa[8]   3500.0  32410.0    1.0  \n",
       "alfa[9]   3522.0  32612.0    1.0  \n",
       "alfa[10]  3532.0  32707.0    1.0  \n",
       "y[1]      3704.0  34299.0    1.0  \n",
       "y[2]      3966.0  36723.0    1.0  \n",
       "y[3]      3695.0  34215.0    1.0  \n",
       "y[4]      3744.0  34668.0    1.0  \n",
       "y[5]      3862.0  35759.0    1.0  \n",
       "y[6]      3915.0  36250.0    1.0  \n",
       "y[7]      3966.0  36718.0    1.0  \n",
       "y[8]      4038.0  37385.0    1.0  \n",
       "y[9]      3815.0  35322.0    1.0  \n",
       "y[10]     3915.0  36247.0    1.0  "
      ]
     },
     "execution_count": 197,
     "metadata": {},
     "output_type": "execute_result"
    }
   ],
   "source": [
    "sim2.summary()"
   ]
  },
  {
   "cell_type": "code",
   "execution_count": 198,
   "metadata": {},
   "outputs": [
    {
     "data": {
      "image/png": "[encoded data removed]",
      "text/plain": [
       "<Figure size 432x288 with 1 Axes>"
      ]
     },
     "metadata": {
      "needs_background": "light"
     },
     "output_type": "display_data"
    }
   ],
   "source": [
    "df_sim = sim2.draws_pd()\n",
    "df_sim.hist(column='y[1]', bins=30)\n",
    "plt.bar(df['Fatal accidents'][0], 200, color = 'r')\n",
    "plt.show()"
   ]
  },
  {
   "cell_type": "code",
   "execution_count": 199,
   "metadata": {},
   "outputs": [
    {
     "data": {
      "image/png": "[encoded data removed]",
      "text/plain": [
       "<Figure size 432x288 with 1 Axes>"
      ]
     },
     "metadata": {
      "needs_background": "light"
     },
     "output_type": "display_data"
    }
   ],
   "source": [
    "df_sim.hist(column='y[2]', bins=30)\n",
    "plt.bar(df['Fatal accidents'][1], 200, color = 'r')\n",
    "plt.show()"
   ]
  },
  {
   "cell_type": "code",
   "execution_count": 200,
   "metadata": {},
   "outputs": [
    {
     "data": {
      "image/png": "[encoded data removed]",
      "text/plain": [
       "<Figure size 432x288 with 1 Axes>"
      ]
     },
     "metadata": {
      "needs_background": "light"
     },
     "output_type": "display_data"
    }
   ],
   "source": [
    "df_sim.hist(column='y[3]', bins=30)\n",
    "plt.bar(df['Fatal accidents'][2], 200, color = 'r')\n",
    "plt.show()"
   ]
  },
  {
   "cell_type": "code",
   "execution_count": 201,
   "metadata": {},
   "outputs": [
    {
     "data": {
      "image/png": "[encoded data removed]",
      "text/plain": [
       "<Figure size 432x288 with 1 Axes>"
      ]
     },
     "metadata": {
      "needs_background": "light"
     },
     "output_type": "display_data"
    }
   ],
   "source": [
    "df_sim.hist(column='y[4]', bins=30)\n",
    "plt.bar(df['Fatal accidents'][3], 200, color = 'r')\n",
    "plt.show()"
   ]
  },
  {
   "cell_type": "code",
   "execution_count": 202,
   "metadata": {},
   "outputs": [
    {
     "data": {
      "image/png": "[encoded data removed]",
      "text/plain": [
       "<Figure size 432x288 with 1 Axes>"
      ]
     },
     "metadata": {
      "needs_background": "light"
     },
     "output_type": "display_data"
    }
   ],
   "source": [
    "df_sim.hist(column='y[5]', bins=30)\n",
    "plt.bar(df['Fatal accidents'][4], 200, color = 'r')\n",
    "plt.show()"
   ]
  },
  {
   "cell_type": "code",
   "execution_count": 203,
   "metadata": {},
   "outputs": [
    {
     "data": {
      "image/png": "[encoded data removed]",
      "text/plain": [
       "<Figure size 432x288 with 1 Axes>"
      ]
     },
     "metadata": {
      "needs_background": "light"
     },
     "output_type": "display_data"
    }
   ],
   "source": [
    "df_sim.hist(column='y[6]', bins=30)\n",
    "plt.bar(df['Fatal accidents'][5], 200, color = 'r')\n",
    "plt.show()"
   ]
  },
  {
   "cell_type": "code",
   "execution_count": 204,
   "metadata": {},
   "outputs": [
    {
     "data": {
      "image/png": "[encoded data removed]",
      "text/plain": [
       "<Figure size 432x288 with 1 Axes>"
      ]
     },
     "metadata": {
      "needs_background": "light"
     },
     "output_type": "display_data"
    }
   ],
   "source": [
    "df_sim.hist(column='y[7]', bins=30)\n",
    "plt.bar(df['Fatal accidents'][6], 200, color = 'r')\n",
    "plt.show()"
   ]
  },
  {
   "cell_type": "code",
   "execution_count": 205,
   "metadata": {},
   "outputs": [
    {
     "data": {
      "image/png": "[encoded data removed]",
      "text/plain": [
       "<Figure size 432x288 with 1 Axes>"
      ]
     },
     "metadata": {
      "needs_background": "light"
     },
     "output_type": "display_data"
    }
   ],
   "source": [
    "df_sim.hist(column='y[8]', bins=30)\n",
    "plt.bar(df['Fatal accidents'][7], 200, color = 'r')\n",
    "plt.show()"
   ]
  },
  {
   "cell_type": "code",
   "execution_count": 206,
   "metadata": {},
   "outputs": [
    {
     "data": {
      "image/png": "[encoded data removed]",
      "text/plain": [
       "<Figure size 432x288 with 1 Axes>"
      ]
     },
     "metadata": {
      "needs_background": "light"
     },
     "output_type": "display_data"
    }
   ],
   "source": [
    "df_sim.hist(column='y[9]', bins=30)\n",
    "plt.bar(df['Fatal accidents'][8], 200, color = 'r')\n",
    "plt.show()"
   ]
  },
  {
   "cell_type": "code",
   "execution_count": 207,
   "metadata": {},
   "outputs": [
    {
     "data": {
      "image/png": "[encoded data removed]",
      "text/plain": [
       "<Figure size 432x288 with 1 Axes>"
      ]
     },
     "metadata": {
      "needs_background": "light"
     },
     "output_type": "display_data"
    }
   ],
   "source": [
    "df_sim.hist(column='y[10]', bins=30)\n",
    "plt.bar(df['Fatal accidents'][8], 200, color = 'r')\n",
    "plt.show()"
   ]
  },
  {
   "cell_type": "code",
   "execution_count": 209,
   "metadata": {},
   "outputs": [
    {
     "name": "stderr",
     "output_type": "stream",
     "text": [
      "INFO:cmdstanpy:compiling stan file /home/lab5/alfa_array_model.stan to exe file /home/lab5/alfa_array_model\n",
      "INFO:cmdstanpy:compiled model executable: /home/lab5/alfa_array_model\n",
      "INFO:cmdstanpy:CmdStan start processing\n",
      "chain 1 |\u001b[33m          \u001b[0m| 00:00 Status\n",
      "\u001b[A\n",
      "\n",
      "chain 1 |\u001b[33m█▎        \u001b[0m| 00:00 Iteration:  100 / 2000 [  5%]  (Warmup)\n",
      "\u001b[A\n",
      "\n",
      "chain 1 |\u001b[34m█████▉    \u001b[0m| 00:00 Iteration: 1001 / 2000 [ 50%]  (Sampling)\n",
      "\u001b[A\n",
      "\n",
      "chain 1 |\u001b[34m█████████ \u001b[0m| 00:00 Iteration: 1700 / 2000 [ 85%]  (Sampling)\n",
      "\u001b[A\n",
      "\n",
      "\u001b[A\u001b[A\n",
      "\n",
      "\u001b[A\u001b[A\n",
      "\n",
      "\u001b[A\u001b[A\n",
      "\n",
      "\u001b[A\u001b[A\n",
      "\n",
      "\u001b[A\u001b[A\n",
      "\n",
      "\u001b[A\u001b[A\n",
      "\n",
      "\u001b[A\u001b[A\n",
      "\n",
      "\u001b[A\u001b[A\n",
      "\n",
      "\u001b[A\u001b[A\n",
      "\n",
      "\u001b[A\u001b[A\n",
      "\n",
      "\u001b[A\u001b[A\n",
      "\n",
      "chain 1 |\u001b[34m██████████\u001b[0m| 00:03 Sampling completed                       \n",
      "chain 2 |\u001b[34m██████████\u001b[0m| 00:03 Sampling completed                       \n",
      "chain 3 |\u001b[34m██████████\u001b[0m| 00:03 Sampling completed                       \n",
      "chain 4 |\u001b[34m██████████\u001b[0m| 00:03 Sampling completed                       "
     ]
    },
    {
     "name": "stdout",
     "output_type": "stream",
     "text": [
      "                                                                                                                                                                                                                                                                                                                                "
     ]
    },
    {
     "name": "stderr",
     "output_type": "stream",
     "text": [
      "\n",
      "INFO:cmdstanpy:CmdStan done processing.\n"
     ]
    },
    {
     "name": "stdout",
     "output_type": "stream",
     "text": [
      "\n"
     ]
    }
   ],
   "source": [
    "model2_fit=CmdStanModel(stan_file='alfa_array_model.stan')  \n",
    "\n",
    "sim2_fit=model2_fit.sample(data={'N': 10, 'ni': df['Miles flown [100 mln miles]'], 'accidents': df['Fatal accidents']})"
   ]
  },
  {
   "cell_type": "code",
   "execution_count": 210,
   "metadata": {},
   "outputs": [
    {
     "data": {
      "text/html": [
       "<div>\n",
       "<style scoped>\n",
       "    .dataframe tbody tr th:only-of-type {\n",
       "        vertical-align: middle;\n",
       "    }\n",
       "\n",
       "    .dataframe tbody tr th {\n",
       "        vertical-align: top;\n",
       "    }\n",
       "\n",
       "    .dataframe thead th {\n",
       "        text-align: right;\n",
       "    }\n",
       "</style>\n",
       "<table border=\"1\" class=\"dataframe\">\n",
       "  <thead>\n",
       "    <tr style=\"text-align: right;\">\n",
       "      <th></th>\n",
       "      <th>Mean</th>\n",
       "      <th>MCSE</th>\n",
       "      <th>StdDev</th>\n",
       "      <th>5%</th>\n",
       "      <th>50%</th>\n",
       "      <th>95%</th>\n",
       "      <th>N_Eff</th>\n",
       "      <th>N_Eff/s</th>\n",
       "      <th>R_hat</th>\n",
       "    </tr>\n",
       "    <tr>\n",
       "      <th>name</th>\n",
       "      <th></th>\n",
       "      <th></th>\n",
       "      <th></th>\n",
       "      <th></th>\n",
       "      <th></th>\n",
       "      <th></th>\n",
       "      <th></th>\n",
       "      <th></th>\n",
       "      <th></th>\n",
       "    </tr>\n",
       "  </thead>\n",
       "  <tbody>\n",
       "    <tr>\n",
       "      <th>lp__</th>\n",
       "      <td>-6.200000e+60</td>\n",
       "      <td>7.800000e+60</td>\n",
       "      <td>1.500000e+61</td>\n",
       "      <td>-4.400000e+61</td>\n",
       "      <td>490.0</td>\n",
       "      <td>5.000000e+02</td>\n",
       "      <td>3.6</td>\n",
       "      <td>1.10</td>\n",
       "      <td>4.1</td>\n",
       "    </tr>\n",
       "    <tr>\n",
       "      <th>alfa[1]</th>\n",
       "      <td>6.300000e-01</td>\n",
       "      <td>1.100000e+00</td>\n",
       "      <td>1.500000e+00</td>\n",
       "      <td>-1.300000e+00</td>\n",
       "      <td>2.1</td>\n",
       "      <td>2.100000e+00</td>\n",
       "      <td>2.0</td>\n",
       "      <td>0.58</td>\n",
       "      <td>230.0</td>\n",
       "    </tr>\n",
       "    <tr>\n",
       "      <th>alfa[2]</th>\n",
       "      <td>1.200000e+00</td>\n",
       "      <td>8.900000e-01</td>\n",
       "      <td>1.300000e+00</td>\n",
       "      <td>-9.500000e-01</td>\n",
       "      <td>2.1</td>\n",
       "      <td>2.100000e+00</td>\n",
       "      <td>2.0</td>\n",
       "      <td>0.58</td>\n",
       "      <td>190.0</td>\n",
       "    </tr>\n",
       "    <tr>\n",
       "      <th>alfa[3]</th>\n",
       "      <td>9.900000e-01</td>\n",
       "      <td>8.800000e-01</td>\n",
       "      <td>1.300000e+00</td>\n",
       "      <td>-9.300000e-01</td>\n",
       "      <td>2.1</td>\n",
       "      <td>2.100000e+00</td>\n",
       "      <td>2.0</td>\n",
       "      <td>0.58</td>\n",
       "      <td>194.0</td>\n",
       "    </tr>\n",
       "    <tr>\n",
       "      <th>alfa[4]</th>\n",
       "      <td>1.000000e+00</td>\n",
       "      <td>1.100000e+00</td>\n",
       "      <td>1.600000e+00</td>\n",
       "      <td>-1.600000e+00</td>\n",
       "      <td>2.1</td>\n",
       "      <td>2.100000e+00</td>\n",
       "      <td>2.0</td>\n",
       "      <td>0.58</td>\n",
       "      <td>245.0</td>\n",
       "    </tr>\n",
       "    <tr>\n",
       "      <th>alfa[5]</th>\n",
       "      <td>7.400000e-01</td>\n",
       "      <td>1.100000e+00</td>\n",
       "      <td>1.500000e+00</td>\n",
       "      <td>-1.500000e+00</td>\n",
       "      <td>2.1</td>\n",
       "      <td>2.100000e+00</td>\n",
       "      <td>2.0</td>\n",
       "      <td>0.58</td>\n",
       "      <td>232.0</td>\n",
       "    </tr>\n",
       "    <tr>\n",
       "      <th>alfa[6]</th>\n",
       "      <td>8.900000e-01</td>\n",
       "      <td>8.600000e-01</td>\n",
       "      <td>1.200000e+00</td>\n",
       "      <td>-5.200000e-01</td>\n",
       "      <td>2.1</td>\n",
       "      <td>2.100000e+00</td>\n",
       "      <td>2.0</td>\n",
       "      <td>0.58</td>\n",
       "      <td>184.0</td>\n",
       "    </tr>\n",
       "    <tr>\n",
       "      <th>alfa[7]</th>\n",
       "      <td>1.600000e+00</td>\n",
       "      <td>3.900000e-01</td>\n",
       "      <td>5.600000e-01</td>\n",
       "      <td>8.100000e-01</td>\n",
       "      <td>2.1</td>\n",
       "      <td>2.100000e+00</td>\n",
       "      <td>2.0</td>\n",
       "      <td>0.58</td>\n",
       "      <td>86.0</td>\n",
       "    </tr>\n",
       "    <tr>\n",
       "      <th>alfa[8]</th>\n",
       "      <td>1.400000e-01</td>\n",
       "      <td>1.400000e+00</td>\n",
       "      <td>2.000000e+00</td>\n",
       "      <td>-1.900000e+00</td>\n",
       "      <td>2.1</td>\n",
       "      <td>2.100000e+00</td>\n",
       "      <td>2.0</td>\n",
       "      <td>0.58</td>\n",
       "      <td>303.0</td>\n",
       "    </tr>\n",
       "    <tr>\n",
       "      <th>alfa[9]</th>\n",
       "      <td>4.400000e-01</td>\n",
       "      <td>1.200000e+00</td>\n",
       "      <td>1.700000e+00</td>\n",
       "      <td>-1.400000e+00</td>\n",
       "      <td>2.1</td>\n",
       "      <td>2.100000e+00</td>\n",
       "      <td>2.0</td>\n",
       "      <td>0.58</td>\n",
       "      <td>247.0</td>\n",
       "    </tr>\n",
       "    <tr>\n",
       "      <th>alfa[10]</th>\n",
       "      <td>1.100000e+00</td>\n",
       "      <td>7.600000e-01</td>\n",
       "      <td>1.100000e+00</td>\n",
       "      <td>-3.500000e-01</td>\n",
       "      <td>2.1</td>\n",
       "      <td>2.100000e+00</td>\n",
       "      <td>2.0</td>\n",
       "      <td>0.58</td>\n",
       "      <td>160.0</td>\n",
       "    </tr>\n",
       "    <tr>\n",
       "      <th>theta</th>\n",
       "      <td>0.000000e+00</td>\n",
       "      <td>0.000000e+00</td>\n",
       "      <td>0.000000e+00</td>\n",
       "      <td>0.000000e+00</td>\n",
       "      <td>0.0</td>\n",
       "      <td>0.000000e+00</td>\n",
       "      <td>2.0</td>\n",
       "      <td>1.00</td>\n",
       "      <td>209.0</td>\n",
       "    </tr>\n",
       "    <tr>\n",
       "      <th>lambda[1]</th>\n",
       "      <td>2.019639e+31</td>\n",
       "      <td>2.532339e+31</td>\n",
       "      <td>4.174158e+31</td>\n",
       "      <td>1.500000e+01</td>\n",
       "      <td>3503.0</td>\n",
       "      <td>1.244990e+32</td>\n",
       "      <td>2.7</td>\n",
       "      <td>0.79</td>\n",
       "      <td>6.0</td>\n",
       "    </tr>\n",
       "    <tr>\n",
       "      <th>lambda[2]</th>\n",
       "      <td>6.055950e+35</td>\n",
       "      <td>7.611449e+35</td>\n",
       "      <td>1.282967e+36</td>\n",
       "      <td>1.600000e+01</td>\n",
       "      <td>13842.0</td>\n",
       "      <td>3.838610e+36</td>\n",
       "      <td>2.8</td>\n",
       "      <td>0.83</td>\n",
       "      <td>5.7</td>\n",
       "    </tr>\n",
       "    <tr>\n",
       "      <th>lambda[3]</th>\n",
       "      <td>5.928523e+40</td>\n",
       "      <td>7.475396e+40</td>\n",
       "      <td>1.304597e+41</td>\n",
       "      <td>1.800000e+01</td>\n",
       "      <td>420771.0</td>\n",
       "      <td>3.908880e+41</td>\n",
       "      <td>3.0</td>\n",
       "      <td>0.89</td>\n",
       "      <td>5.2</td>\n",
       "    </tr>\n",
       "    <tr>\n",
       "      <th>lambda[4]</th>\n",
       "      <td>1.791513e+44</td>\n",
       "      <td>2.262645e+44</td>\n",
       "      <td>4.028264e+44</td>\n",
       "      <td>2.000000e+01</td>\n",
       "      <td>3078180.0</td>\n",
       "      <td>1.205920e+45</td>\n",
       "      <td>3.2</td>\n",
       "      <td>0.92</td>\n",
       "      <td>5.0</td>\n",
       "    </tr>\n",
       "    <tr>\n",
       "      <th>lambda[5]</th>\n",
       "      <td>1.200090e+47</td>\n",
       "      <td>1.517284e+47</td>\n",
       "      <td>2.738614e+47</td>\n",
       "      <td>2.100000e+01</td>\n",
       "      <td>1914840.0</td>\n",
       "      <td>8.187990e+47</td>\n",
       "      <td>3.3</td>\n",
       "      <td>0.95</td>\n",
       "      <td>4.8</td>\n",
       "    </tr>\n",
       "    <tr>\n",
       "      <th>lambda[6]</th>\n",
       "      <td>3.252339e+49</td>\n",
       "      <td>4.114576e+49</td>\n",
       "      <td>7.490885e+49</td>\n",
       "      <td>2.200000e+01</td>\n",
       "      <td>1459740.0</td>\n",
       "      <td>2.237190e+50</td>\n",
       "      <td>3.3</td>\n",
       "      <td>0.96</td>\n",
       "      <td>4.7</td>\n",
       "    </tr>\n",
       "    <tr>\n",
       "      <th>lambda[7]</th>\n",
       "      <td>4.110866e+48</td>\n",
       "      <td>5.198374e+48</td>\n",
       "      <td>9.406386e+48</td>\n",
       "      <td>2.100000e+01</td>\n",
       "      <td>5974820.0</td>\n",
       "      <td>2.811520e+49</td>\n",
       "      <td>3.3</td>\n",
       "      <td>0.95</td>\n",
       "      <td>4.8</td>\n",
       "    </tr>\n",
       "    <tr>\n",
       "      <th>lambda[8]</th>\n",
       "      <td>2.138998e+50</td>\n",
       "      <td>2.707487e+50</td>\n",
       "      <td>4.964910e+50</td>\n",
       "      <td>2.200000e+01</td>\n",
       "      <td>678512.0</td>\n",
       "      <td>1.481160e+51</td>\n",
       "      <td>3.4</td>\n",
       "      <td>0.98</td>\n",
       "      <td>4.6</td>\n",
       "    </tr>\n",
       "    <tr>\n",
       "      <th>lambda[9]</th>\n",
       "      <td>6.105551e+60</td>\n",
       "      <td>7.750698e+60</td>\n",
       "      <td>1.480634e+61</td>\n",
       "      <td>2.700000e+01</td>\n",
       "      <td>18540300.0</td>\n",
       "      <td>4.374120e+61</td>\n",
       "      <td>3.6</td>\n",
       "      <td>1.10</td>\n",
       "      <td>4.1</td>\n",
       "    </tr>\n",
       "    <tr>\n",
       "      <th>lambda[10]</th>\n",
       "      <td>4.943868e+58</td>\n",
       "      <td>6.271410e+58</td>\n",
       "      <td>1.185866e+59</td>\n",
       "      <td>2.600000e+01</td>\n",
       "      <td>23600400.0</td>\n",
       "      <td>3.514080e+59</td>\n",
       "      <td>3.6</td>\n",
       "      <td>1.00</td>\n",
       "      <td>4.2</td>\n",
       "    </tr>\n",
       "    <tr>\n",
       "      <th>y[1]</th>\n",
       "      <td>8.100000e+00</td>\n",
       "      <td>1.900000e-01</td>\n",
       "      <td>8.500000e+00</td>\n",
       "      <td>0.000000e+00</td>\n",
       "      <td>5.0</td>\n",
       "      <td>2.100000e+01</td>\n",
       "      <td>2000.0</td>\n",
       "      <td>582.00</td>\n",
       "      <td>3.2</td>\n",
       "    </tr>\n",
       "    <tr>\n",
       "      <th>y[2]</th>\n",
       "      <td>8.600000e+00</td>\n",
       "      <td>2.000000e-01</td>\n",
       "      <td>9.200000e+00</td>\n",
       "      <td>0.000000e+00</td>\n",
       "      <td>4.0</td>\n",
       "      <td>2.300000e+01</td>\n",
       "      <td>2000.0</td>\n",
       "      <td>582.00</td>\n",
       "      <td>3.2</td>\n",
       "    </tr>\n",
       "    <tr>\n",
       "      <th>y[3]</th>\n",
       "      <td>9.900000e+00</td>\n",
       "      <td>2.300000e-01</td>\n",
       "      <td>1.000000e+01</td>\n",
       "      <td>0.000000e+00</td>\n",
       "      <td>6.0</td>\n",
       "      <td>2.600000e+01</td>\n",
       "      <td>2000.0</td>\n",
       "      <td>582.00</td>\n",
       "      <td>3.3</td>\n",
       "    </tr>\n",
       "    <tr>\n",
       "      <th>y[4]</th>\n",
       "      <td>1.100000e+01</td>\n",
       "      <td>2.500000e-01</td>\n",
       "      <td>1.100000e+01</td>\n",
       "      <td>0.000000e+00</td>\n",
       "      <td>7.0</td>\n",
       "      <td>2.700000e+01</td>\n",
       "      <td>2000.0</td>\n",
       "      <td>582.00</td>\n",
       "      <td>3.6</td>\n",
       "    </tr>\n",
       "    <tr>\n",
       "      <th>y[5]</th>\n",
       "      <td>1.100000e+01</td>\n",
       "      <td>2.600000e-01</td>\n",
       "      <td>1.200000e+01</td>\n",
       "      <td>0.000000e+00</td>\n",
       "      <td>5.0</td>\n",
       "      <td>2.900000e+01</td>\n",
       "      <td>2000.0</td>\n",
       "      <td>582.00</td>\n",
       "      <td>3.7</td>\n",
       "    </tr>\n",
       "    <tr>\n",
       "      <th>y[6]</th>\n",
       "      <td>1.200000e+01</td>\n",
       "      <td>2.700000e-01</td>\n",
       "      <td>1.200000e+01</td>\n",
       "      <td>0.000000e+00</td>\n",
       "      <td>9.0</td>\n",
       "      <td>3.000000e+01</td>\n",
       "      <td>2000.0</td>\n",
       "      <td>582.00</td>\n",
       "      <td>3.7</td>\n",
       "    </tr>\n",
       "    <tr>\n",
       "      <th>y[7]</th>\n",
       "      <td>1.100000e+01</td>\n",
       "      <td>2.700000e-01</td>\n",
       "      <td>1.200000e+01</td>\n",
       "      <td>0.000000e+00</td>\n",
       "      <td>8.0</td>\n",
       "      <td>3.000000e+01</td>\n",
       "      <td>2000.0</td>\n",
       "      <td>582.00</td>\n",
       "      <td>3.6</td>\n",
       "    </tr>\n",
       "    <tr>\n",
       "      <th>y[8]</th>\n",
       "      <td>1.200000e+01</td>\n",
       "      <td>2.900000e-01</td>\n",
       "      <td>1.300000e+01</td>\n",
       "      <td>0.000000e+00</td>\n",
       "      <td>7.0</td>\n",
       "      <td>3.200000e+01</td>\n",
       "      <td>2000.0</td>\n",
       "      <td>582.00</td>\n",
       "      <td>3.6</td>\n",
       "    </tr>\n",
       "    <tr>\n",
       "      <th>y[9]</th>\n",
       "      <td>1.500000e+01</td>\n",
       "      <td>3.500000e-01</td>\n",
       "      <td>1.600000e+01</td>\n",
       "      <td>0.000000e+00</td>\n",
       "      <td>9.0</td>\n",
       "      <td>3.800000e+01</td>\n",
       "      <td>2000.0</td>\n",
       "      <td>582.00</td>\n",
       "      <td>3.9</td>\n",
       "    </tr>\n",
       "    <tr>\n",
       "      <th>y[10]</th>\n",
       "      <td>1.400000e+01</td>\n",
       "      <td>3.300000e-01</td>\n",
       "      <td>1.500000e+01</td>\n",
       "      <td>0.000000e+00</td>\n",
       "      <td>10.0</td>\n",
       "      <td>3.600000e+01</td>\n",
       "      <td>2000.0</td>\n",
       "      <td>582.00</td>\n",
       "      <td>3.8</td>\n",
       "    </tr>\n",
       "  </tbody>\n",
       "</table>\n",
       "</div>"
      ],
      "text/plain": [
       "                    Mean          MCSE        StdDev            5%  \\\n",
       "name                                                                 \n",
       "lp__       -6.200000e+60  7.800000e+60  1.500000e+61 -4.400000e+61   \n",
       "alfa[1]     6.300000e-01  1.100000e+00  1.500000e+00 -1.300000e+00   \n",
       "alfa[2]     1.200000e+00  8.900000e-01  1.300000e+00 -9.500000e-01   \n",
       "alfa[3]     9.900000e-01  8.800000e-01  1.300000e+00 -9.300000e-01   \n",
       "alfa[4]     1.000000e+00  1.100000e+00  1.600000e+00 -1.600000e+00   \n",
       "alfa[5]     7.400000e-01  1.100000e+00  1.500000e+00 -1.500000e+00   \n",
       "alfa[6]     8.900000e-01  8.600000e-01  1.200000e+00 -5.200000e-01   \n",
       "alfa[7]     1.600000e+00  3.900000e-01  5.600000e-01  8.100000e-01   \n",
       "alfa[8]     1.400000e-01  1.400000e+00  2.000000e+00 -1.900000e+00   \n",
       "alfa[9]     4.400000e-01  1.200000e+00  1.700000e+00 -1.400000e+00   \n",
       "alfa[10]    1.100000e+00  7.600000e-01  1.100000e+00 -3.500000e-01   \n",
       "theta       0.000000e+00  0.000000e+00  0.000000e+00  0.000000e+00   \n",
       "lambda[1]   2.019639e+31  2.532339e+31  4.174158e+31  1.500000e+01   \n",
       "lambda[2]   6.055950e+35  7.611449e+35  1.282967e+36  1.600000e+01   \n",
       "lambda[3]   5.928523e+40  7.475396e+40  1.304597e+41  1.800000e+01   \n",
       "lambda[4]   1.791513e+44  2.262645e+44  4.028264e+44  2.000000e+01   \n",
       "lambda[5]   1.200090e+47  1.517284e+47  2.738614e+47  2.100000e+01   \n",
       "lambda[6]   3.252339e+49  4.114576e+49  7.490885e+49  2.200000e+01   \n",
       "lambda[7]   4.110866e+48  5.198374e+48  9.406386e+48  2.100000e+01   \n",
       "lambda[8]   2.138998e+50  2.707487e+50  4.964910e+50  2.200000e+01   \n",
       "lambda[9]   6.105551e+60  7.750698e+60  1.480634e+61  2.700000e+01   \n",
       "lambda[10]  4.943868e+58  6.271410e+58  1.185866e+59  2.600000e+01   \n",
       "y[1]        8.100000e+00  1.900000e-01  8.500000e+00  0.000000e+00   \n",
       "y[2]        8.600000e+00  2.000000e-01  9.200000e+00  0.000000e+00   \n",
       "y[3]        9.900000e+00  2.300000e-01  1.000000e+01  0.000000e+00   \n",
       "y[4]        1.100000e+01  2.500000e-01  1.100000e+01  0.000000e+00   \n",
       "y[5]        1.100000e+01  2.600000e-01  1.200000e+01  0.000000e+00   \n",
       "y[6]        1.200000e+01  2.700000e-01  1.200000e+01  0.000000e+00   \n",
       "y[7]        1.100000e+01  2.700000e-01  1.200000e+01  0.000000e+00   \n",
       "y[8]        1.200000e+01  2.900000e-01  1.300000e+01  0.000000e+00   \n",
       "y[9]        1.500000e+01  3.500000e-01  1.600000e+01  0.000000e+00   \n",
       "y[10]       1.400000e+01  3.300000e-01  1.500000e+01  0.000000e+00   \n",
       "\n",
       "                   50%           95%   N_Eff  N_Eff/s  R_hat  \n",
       "name                                                          \n",
       "lp__             490.0  5.000000e+02     3.6     1.10    4.1  \n",
       "alfa[1]            2.1  2.100000e+00     2.0     0.58  230.0  \n",
       "alfa[2]            2.1  2.100000e+00     2.0     0.58  190.0  \n",
       "alfa[3]            2.1  2.100000e+00     2.0     0.58  194.0  \n",
       "alfa[4]            2.1  2.100000e+00     2.0     0.58  245.0  \n",
       "alfa[5]            2.1  2.100000e+00     2.0     0.58  232.0  \n",
       "alfa[6]            2.1  2.100000e+00     2.0     0.58  184.0  \n",
       "alfa[7]            2.1  2.100000e+00     2.0     0.58   86.0  \n",
       "alfa[8]            2.1  2.100000e+00     2.0     0.58  303.0  \n",
       "alfa[9]            2.1  2.100000e+00     2.0     0.58  247.0  \n",
       "alfa[10]           2.1  2.100000e+00     2.0     0.58  160.0  \n",
       "theta              0.0  0.000000e+00     2.0     1.00  209.0  \n",
       "lambda[1]       3503.0  1.244990e+32     2.7     0.79    6.0  \n",
       "lambda[2]      13842.0  3.838610e+36     2.8     0.83    5.7  \n",
       "lambda[3]     420771.0  3.908880e+41     3.0     0.89    5.2  \n",
       "lambda[4]    3078180.0  1.205920e+45     3.2     0.92    5.0  \n",
       "lambda[5]    1914840.0  8.187990e+47     3.3     0.95    4.8  \n",
       "lambda[6]    1459740.0  2.237190e+50     3.3     0.96    4.7  \n",
       "lambda[7]    5974820.0  2.811520e+49     3.3     0.95    4.8  \n",
       "lambda[8]     678512.0  1.481160e+51     3.4     0.98    4.6  \n",
       "lambda[9]   18540300.0  4.374120e+61     3.6     1.10    4.1  \n",
       "lambda[10]  23600400.0  3.514080e+59     3.6     1.00    4.2  \n",
       "y[1]               5.0  2.100000e+01  2000.0   582.00    3.2  \n",
       "y[2]               4.0  2.300000e+01  2000.0   582.00    3.2  \n",
       "y[3]               6.0  2.600000e+01  2000.0   582.00    3.3  \n",
       "y[4]               7.0  2.700000e+01  2000.0   582.00    3.6  \n",
       "y[5]               5.0  2.900000e+01  2000.0   582.00    3.7  \n",
       "y[6]               9.0  3.000000e+01  2000.0   582.00    3.7  \n",
       "y[7]               8.0  3.000000e+01  2000.0   582.00    3.6  \n",
       "y[8]               7.0  3.200000e+01  2000.0   582.00    3.6  \n",
       "y[9]               9.0  3.800000e+01  2000.0   582.00    3.9  \n",
       "y[10]             10.0  3.600000e+01  2000.0   582.00    3.8  "
      ]
     },
     "execution_count": 210,
     "metadata": {},
     "output_type": "execute_result"
    }
   ],
   "source": [
    "sim2_fit.summary()"
   ]
  },
  {
   "cell_type": "code",
   "execution_count": 211,
   "metadata": {},
   "outputs": [
    {
     "data": {
      "image/png": "[encoded data removed]",
      "text/plain": [
       "<Figure size 432x288 with 1 Axes>"
      ]
     },
     "metadata": {
      "needs_background": "light"
     },
     "output_type": "display_data"
    }
   ],
   "source": [
    "df_sim = sim2_fit.draws_pd()\n",
    "df_sim.hist(column='y[1]', bins=30)\n",
    "plt.bar(df['Fatal accidents'][0], 200, color = 'r')\n",
    "plt.show()"
   ]
  },
  {
   "cell_type": "code",
   "execution_count": 212,
   "metadata": {},
   "outputs": [
    {
     "data": {
      "image/png": "[encoded data removed]",
      "text/plain": [
       "<Figure size 432x288 with 1 Axes>"
      ]
     },
     "metadata": {
      "needs_background": "light"
     },
     "output_type": "display_data"
    }
   ],
   "source": [
    "df_sim.hist(column='y[2]', bins=30)\n",
    "plt.bar(df['Fatal accidents'][1], 200, color = 'r')\n",
    "plt.show()"
   ]
  },
  {
   "cell_type": "code",
   "execution_count": 213,
   "metadata": {},
   "outputs": [
    {
     "data": {
      "image/png": "[encoded data removed]",
      "text/plain": [
       "<Figure size 432x288 with 1 Axes>"
      ]
     },
     "metadata": {
      "needs_background": "light"
     },
     "output_type": "display_data"
    }
   ],
   "source": [
    "df_sim.hist(column='y[3]', bins=30)\n",
    "plt.bar(df['Fatal accidents'][2], 200, color = 'r')\n",
    "plt.show()"
   ]
  },
  {
   "cell_type": "code",
   "execution_count": 214,
   "metadata": {},
   "outputs": [
    {
     "data": {
      "image/png": "[encoded data removed]",
      "text/plain": [
       "<Figure size 432x288 with 1 Axes>"
      ]
     },
     "metadata": {
      "needs_background": "light"
     },
     "output_type": "display_data"
    }
   ],
   "source": [
    "df_sim.hist(column='y[4]', bins=30)\n",
    "plt.bar(df['Fatal accidents'][3], 200, color = 'r')\n",
    "plt.show()"
   ]
  },
  {
   "cell_type": "code",
   "execution_count": 215,
   "metadata": {},
   "outputs": [
    {
     "data": {
      "image/png": "[encoded data removed]",
      "text/plain": [
       "<Figure size 432x288 with 1 Axes>"
      ]
     },
     "metadata": {
      "needs_background": "light"
     },
     "output_type": "display_data"
    }
   ],
   "source": [
    "df_sim.hist(column='y[5]', bins=30)\n",
    "plt.bar(df['Fatal accidents'][4], 200, color = 'r')\n",
    "plt.show()"
   ]
  },
  {
   "cell_type": "code",
   "execution_count": 216,
   "metadata": {},
   "outputs": [
    {
     "data": {
      "image/png": "[encoded data removed]",
      "text/plain": [
       "<Figure size 432x288 with 1 Axes>"
      ]
     },
     "metadata": {
      "needs_background": "light"
     },
     "output_type": "display_data"
    }
   ],
   "source": [
    "df_sim.hist(column='y[6]', bins=30)\n",
    "plt.bar(df['Fatal accidents'][5], 200, color = 'r')\n",
    "plt.show()"
   ]
  },
  {
   "cell_type": "code",
   "execution_count": 217,
   "metadata": {},
   "outputs": [
    {
     "data": {
      "image/png": "[encoded data removed]",
      "text/plain": [
       "<Figure size 432x288 with 1 Axes>"
      ]
     },
     "metadata": {
      "needs_background": "light"
     },
     "output_type": "display_data"
    }
   ],
   "source": [
    "df_sim.hist(column='y[7]', bins=30)\n",
    "plt.bar(df['Fatal accidents'][6], 200, color = 'r')\n",
    "plt.show()"
   ]
  },
  {
   "cell_type": "code",
   "execution_count": 218,
   "metadata": {},
   "outputs": [
    {
     "data": {
      "image/png": "[encoded data removed]",
      "text/plain": [
       "<Figure size 432x288 with 1 Axes>"
      ]
     },
     "metadata": {
      "needs_background": "light"
     },
     "output_type": "display_data"
    }
   ],
   "source": [
    "df_sim.hist(column='y[8]', bins=30)\n",
    "plt.bar(df['Fatal accidents'][7], 200, color = 'r')\n",
    "plt.show()"
   ]
  },
  {
   "cell_type": "code",
   "execution_count": 219,
   "metadata": {},
   "outputs": [
    {
     "data": {
      "image/png": "[encoded data removed]",
      "text/plain": [
       "<Figure size 432x288 with 1 Axes>"
      ]
     },
     "metadata": {
      "needs_background": "light"
     },
     "output_type": "display_data"
    }
   ],
   "source": [
    "df_sim.hist(column='y[9]', bins=30)\n",
    "plt.bar(df['Fatal accidents'][8], 200, color = 'r')\n",
    "plt.show()"
   ]
  },
  {
   "cell_type": "code",
   "execution_count": 220,
   "metadata": {},
   "outputs": [
    {
     "data": {
      "image/png": "[encoded data removed]",
      "text/plain": [
       "<Figure size 432x288 with 1 Axes>"
      ]
     },
     "metadata": {
      "needs_background": "light"
     },
     "output_type": "display_data"
    }
   ],
   "source": [
    "df_sim.hist(column='y[10]', bins=30)\n",
    "plt.bar(df['Fatal accidents'][9], 200, color = 'r')\n",
    "plt.show()"
   ]
  }
 ],
 "metadata": {
  "kernelspec": {
   "display_name": "Python 3",
   "language": "python",
   "name": "python3"
  },
  "language_info": {
   "codemirror_mode": {
    "name": "ipython",
    "version": 3
   },
   "file_extension": ".py",
   "mimetype": "text/x-python",
   "name": "python",
   "nbconvert_exporter": "python",
   "pygments_lexer": "ipython3",
   "version": "3.9.11"
  },
  "orig_nbformat": 4
 },
 "nbformat": 4,
 "nbformat_minor": 2
}
